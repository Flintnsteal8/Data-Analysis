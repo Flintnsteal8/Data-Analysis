{
  "cells": [
    {
      "cell_type": "code",
      "execution_count": null,
      "metadata": {
        "id": "eBFLeXSrqaV5"
      },
      "outputs": [],
      "source": [
        "import pandas as pd\n",
        "import matplotlib.pyplot as plt\n",
        "import numpy as np"
      ]
    },
    {
      "cell_type": "code",
      "execution_count": null,
      "metadata": {
        "colab": {
          "base_uri": "https://localhost:8080/"
        },
        "id": "IMWvux1KruFr",
        "outputId": "47be124f-72b8-4441-bd2e-b5642e3f1286"
      },
      "outputs": [
        {
          "name": "stdout",
          "output_type": "stream",
          "text": [
            "Drive already mounted at /content/drive; to attempt to forcibly remount, call drive.mount(\"/content/drive\", force_remount=True).\n"
          ]
        }
      ],
      "source": [
        "from google.colab import drive\n",
        "drive.mount('/content/drive')"
      ]
    },
    {
      "cell_type": "code",
      "execution_count": null,
      "metadata": {
        "colab": {
          "base_uri": "https://localhost:8080/",
          "height": 423
        },
        "id": "fqh8rzhTrqiw",
        "outputId": "bd7157cb-95dd-46a1-b8d5-553eb00b868f"
      },
      "outputs": [
        {
          "data": {
            "text/html": [
              "\n",
              "  <div id=\"df-ec352778-24bd-4815-8bbe-0d5bf6e755e1\">\n",
              "    <div class=\"colab-df-container\">\n",
              "      <div>\n",
              "<style scoped>\n",
              "    .dataframe tbody tr th:only-of-type {\n",
              "        vertical-align: middle;\n",
              "    }\n",
              "\n",
              "    .dataframe tbody tr th {\n",
              "        vertical-align: top;\n",
              "    }\n",
              "\n",
              "    .dataframe thead th {\n",
              "        text-align: right;\n",
              "    }\n",
              "</style>\n",
              "<table border=\"1\" class=\"dataframe\">\n",
              "  <thead>\n",
              "    <tr style=\"text-align: right;\">\n",
              "      <th></th>\n",
              "      <th>date</th>\n",
              "      <th>platform</th>\n",
              "      <th>searchVolume</th>\n",
              "      <th>Claim_ID</th>\n",
              "      <th>week_number</th>\n",
              "      <th>year_new</th>\n",
              "    </tr>\n",
              "  </thead>\n",
              "  <tbody>\n",
              "    <tr>\n",
              "      <th>0</th>\n",
              "      <td>05-01-2014</td>\n",
              "      <td>google</td>\n",
              "      <td>349</td>\n",
              "      <td>916</td>\n",
              "      <td>1</td>\n",
              "      <td>2014</td>\n",
              "    </tr>\n",
              "    <tr>\n",
              "      <th>1</th>\n",
              "      <td>06-01-2014</td>\n",
              "      <td>google</td>\n",
              "      <td>349</td>\n",
              "      <td>916</td>\n",
              "      <td>2</td>\n",
              "      <td>2014</td>\n",
              "    </tr>\n",
              "    <tr>\n",
              "      <th>2</th>\n",
              "      <td>07-01-2014</td>\n",
              "      <td>google</td>\n",
              "      <td>697</td>\n",
              "      <td>916</td>\n",
              "      <td>2</td>\n",
              "      <td>2014</td>\n",
              "    </tr>\n",
              "    <tr>\n",
              "      <th>3</th>\n",
              "      <td>10-01-2014</td>\n",
              "      <td>google</td>\n",
              "      <td>349</td>\n",
              "      <td>916</td>\n",
              "      <td>2</td>\n",
              "      <td>2014</td>\n",
              "    </tr>\n",
              "    <tr>\n",
              "      <th>4</th>\n",
              "      <td>20-01-2014</td>\n",
              "      <td>google</td>\n",
              "      <td>697</td>\n",
              "      <td>916</td>\n",
              "      <td>4</td>\n",
              "      <td>2014</td>\n",
              "    </tr>\n",
              "    <tr>\n",
              "      <th>...</th>\n",
              "      <td>...</td>\n",
              "      <td>...</td>\n",
              "      <td>...</td>\n",
              "      <td>...</td>\n",
              "      <td>...</td>\n",
              "      <td>...</td>\n",
              "    </tr>\n",
              "    <tr>\n",
              "      <th>181560</th>\n",
              "      <td>05-09-2019</td>\n",
              "      <td>walmart</td>\n",
              "      <td>125</td>\n",
              "      <td>980</td>\n",
              "      <td>36</td>\n",
              "      <td>2019</td>\n",
              "    </tr>\n",
              "    <tr>\n",
              "      <th>181561</th>\n",
              "      <td>22-09-2019</td>\n",
              "      <td>walmart</td>\n",
              "      <td>84</td>\n",
              "      <td>980</td>\n",
              "      <td>38</td>\n",
              "      <td>2019</td>\n",
              "    </tr>\n",
              "    <tr>\n",
              "      <th>181562</th>\n",
              "      <td>26-09-2019</td>\n",
              "      <td>walmart</td>\n",
              "      <td>42</td>\n",
              "      <td>980</td>\n",
              "      <td>39</td>\n",
              "      <td>2019</td>\n",
              "    </tr>\n",
              "    <tr>\n",
              "      <th>181563</th>\n",
              "      <td>15-07-2019</td>\n",
              "      <td>walmart</td>\n",
              "      <td>42</td>\n",
              "      <td>622</td>\n",
              "      <td>29</td>\n",
              "      <td>2019</td>\n",
              "    </tr>\n",
              "    <tr>\n",
              "      <th>181564</th>\n",
              "      <td>02-09-2019</td>\n",
              "      <td>walmart</td>\n",
              "      <td>42</td>\n",
              "      <td>689</td>\n",
              "      <td>36</td>\n",
              "      <td>2019</td>\n",
              "    </tr>\n",
              "  </tbody>\n",
              "</table>\n",
              "<p>181565 rows × 6 columns</p>\n",
              "</div>\n",
              "      <button class=\"colab-df-convert\" onclick=\"convertToInteractive('df-ec352778-24bd-4815-8bbe-0d5bf6e755e1')\"\n",
              "              title=\"Convert this dataframe to an interactive table.\"\n",
              "              style=\"display:none;\">\n",
              "        \n",
              "  <svg xmlns=\"http://www.w3.org/2000/svg\" height=\"24px\"viewBox=\"0 0 24 24\"\n",
              "       width=\"24px\">\n",
              "    <path d=\"M0 0h24v24H0V0z\" fill=\"none\"/>\n",
              "    <path d=\"M18.56 5.44l.94 2.06.94-2.06 2.06-.94-2.06-.94-.94-2.06-.94 2.06-2.06.94zm-11 1L8.5 8.5l.94-2.06 2.06-.94-2.06-.94L8.5 2.5l-.94 2.06-2.06.94zm10 10l.94 2.06.94-2.06 2.06-.94-2.06-.94-.94-2.06-.94 2.06-2.06.94z\"/><path d=\"M17.41 7.96l-1.37-1.37c-.4-.4-.92-.59-1.43-.59-.52 0-1.04.2-1.43.59L10.3 9.45l-7.72 7.72c-.78.78-.78 2.05 0 2.83L4 21.41c.39.39.9.59 1.41.59.51 0 1.02-.2 1.41-.59l7.78-7.78 2.81-2.81c.8-.78.8-2.07 0-2.86zM5.41 20L4 18.59l7.72-7.72 1.47 1.35L5.41 20z\"/>\n",
              "  </svg>\n",
              "      </button>\n",
              "      \n",
              "  <style>\n",
              "    .colab-df-container {\n",
              "      display:flex;\n",
              "      flex-wrap:wrap;\n",
              "      gap: 12px;\n",
              "    }\n",
              "\n",
              "    .colab-df-convert {\n",
              "      background-color: #E8F0FE;\n",
              "      border: none;\n",
              "      border-radius: 50%;\n",
              "      cursor: pointer;\n",
              "      display: none;\n",
              "      fill: #1967D2;\n",
              "      height: 32px;\n",
              "      padding: 0 0 0 0;\n",
              "      width: 32px;\n",
              "    }\n",
              "\n",
              "    .colab-df-convert:hover {\n",
              "      background-color: #E2EBFA;\n",
              "      box-shadow: 0px 1px 2px rgba(60, 64, 67, 0.3), 0px 1px 3px 1px rgba(60, 64, 67, 0.15);\n",
              "      fill: #174EA6;\n",
              "    }\n",
              "\n",
              "    [theme=dark] .colab-df-convert {\n",
              "      background-color: #3B4455;\n",
              "      fill: #D2E3FC;\n",
              "    }\n",
              "\n",
              "    [theme=dark] .colab-df-convert:hover {\n",
              "      background-color: #434B5C;\n",
              "      box-shadow: 0px 1px 3px 1px rgba(0, 0, 0, 0.15);\n",
              "      filter: drop-shadow(0px 1px 2px rgba(0, 0, 0, 0.3));\n",
              "      fill: #FFFFFF;\n",
              "    }\n",
              "  </style>\n",
              "\n",
              "      <script>\n",
              "        const buttonEl =\n",
              "          document.querySelector('#df-ec352778-24bd-4815-8bbe-0d5bf6e755e1 button.colab-df-convert');\n",
              "        buttonEl.style.display =\n",
              "          google.colab.kernel.accessAllowed ? 'block' : 'none';\n",
              "\n",
              "        async function convertToInteractive(key) {\n",
              "          const element = document.querySelector('#df-ec352778-24bd-4815-8bbe-0d5bf6e755e1');\n",
              "          const dataTable =\n",
              "            await google.colab.kernel.invokeFunction('convertToInteractive',\n",
              "                                                     [key], {});\n",
              "          if (!dataTable) return;\n",
              "\n",
              "          const docLinkHtml = 'Like what you see? Visit the ' +\n",
              "            '<a target=\"_blank\" href=https://colab.research.google.com/notebooks/data_table.ipynb>data table notebook</a>'\n",
              "            + ' to learn more about interactive tables.';\n",
              "          element.innerHTML = '';\n",
              "          dataTable['output_type'] = 'display_data';\n",
              "          await google.colab.output.renderOutput(dataTable, element);\n",
              "          const docLink = document.createElement('div');\n",
              "          docLink.innerHTML = docLinkHtml;\n",
              "          element.appendChild(docLink);\n",
              "        }\n",
              "      </script>\n",
              "    </div>\n",
              "  </div>\n",
              "  "
            ],
            "text/plain": [
              "              date platform  searchVolume  Claim_ID  week_number  year_new\n",
              "0       05-01-2014   google           349       916            1      2014\n",
              "1       06-01-2014   google           349       916            2      2014\n",
              "2       07-01-2014   google           697       916            2      2014\n",
              "3       10-01-2014   google           349       916            2      2014\n",
              "4       20-01-2014   google           697       916            4      2014\n",
              "...            ...      ...           ...       ...          ...       ...\n",
              "181560  05-09-2019  walmart           125       980           36      2019\n",
              "181561  22-09-2019  walmart            84       980           38      2019\n",
              "181562  26-09-2019  walmart            42       980           39      2019\n",
              "181563  15-07-2019  walmart            42       622           29      2019\n",
              "181564  02-09-2019  walmart            42       689           36      2019\n",
              "\n",
              "[181565 rows x 6 columns]"
            ]
          },
          "execution_count": 3,
          "metadata": {},
          "output_type": "execute_result"
        }
      ],
      "source": [
        "search = pd.read_csv('/content/drive/My Drive/project dataset/google_search_data.csv')\n",
        "search"
      ]
    },
    {
      "cell_type": "code",
      "execution_count": null,
      "metadata": {
        "colab": {
          "base_uri": "https://localhost:8080/",
          "height": 423
        },
        "id": "eBqPUrxqbhch",
        "outputId": "7bdbdaa0-8b16-4fe3-f995-98fa1893ee23"
      },
      "outputs": [
        {
          "data": {
            "text/html": [
              "\n",
              "  <div id=\"df-4831c330-bd8e-4494-aefd-b95abc0cbc31\">\n",
              "    <div class=\"colab-df-container\">\n",
              "      <div>\n",
              "<style scoped>\n",
              "    .dataframe tbody tr th:only-of-type {\n",
              "        vertical-align: middle;\n",
              "    }\n",
              "\n",
              "    .dataframe tbody tr th {\n",
              "        vertical-align: top;\n",
              "    }\n",
              "\n",
              "    .dataframe thead th {\n",
              "        text-align: right;\n",
              "    }\n",
              "</style>\n",
              "<table border=\"1\" class=\"dataframe\">\n",
              "  <thead>\n",
              "    <tr style=\"text-align: right;\">\n",
              "      <th></th>\n",
              "      <th>PRODUCT_ID</th>\n",
              "      <th>Vendor</th>\n",
              "    </tr>\n",
              "  </thead>\n",
              "  <tbody>\n",
              "    <tr>\n",
              "      <th>0</th>\n",
              "      <td>1</td>\n",
              "      <td>Others</td>\n",
              "    </tr>\n",
              "    <tr>\n",
              "      <th>1</th>\n",
              "      <td>2</td>\n",
              "      <td>Others</td>\n",
              "    </tr>\n",
              "    <tr>\n",
              "      <th>2</th>\n",
              "      <td>3</td>\n",
              "      <td>Others</td>\n",
              "    </tr>\n",
              "    <tr>\n",
              "      <th>3</th>\n",
              "      <td>4</td>\n",
              "      <td>Others</td>\n",
              "    </tr>\n",
              "    <tr>\n",
              "      <th>4</th>\n",
              "      <td>5</td>\n",
              "      <td>Others</td>\n",
              "    </tr>\n",
              "    <tr>\n",
              "      <th>...</th>\n",
              "      <td>...</td>\n",
              "      <td>...</td>\n",
              "    </tr>\n",
              "    <tr>\n",
              "      <th>67170</th>\n",
              "      <td>67171</td>\n",
              "      <td>Private Label</td>\n",
              "    </tr>\n",
              "    <tr>\n",
              "      <th>67171</th>\n",
              "      <td>67172</td>\n",
              "      <td>Private Label</td>\n",
              "    </tr>\n",
              "    <tr>\n",
              "      <th>67172</th>\n",
              "      <td>67173</td>\n",
              "      <td>Private Label</td>\n",
              "    </tr>\n",
              "    <tr>\n",
              "      <th>67173</th>\n",
              "      <td>67174</td>\n",
              "      <td>Private Label</td>\n",
              "    </tr>\n",
              "    <tr>\n",
              "      <th>67174</th>\n",
              "      <td>67175</td>\n",
              "      <td>Private Label</td>\n",
              "    </tr>\n",
              "  </tbody>\n",
              "</table>\n",
              "<p>67175 rows × 2 columns</p>\n",
              "</div>\n",
              "      <button class=\"colab-df-convert\" onclick=\"convertToInteractive('df-4831c330-bd8e-4494-aefd-b95abc0cbc31')\"\n",
              "              title=\"Convert this dataframe to an interactive table.\"\n",
              "              style=\"display:none;\">\n",
              "        \n",
              "  <svg xmlns=\"http://www.w3.org/2000/svg\" height=\"24px\"viewBox=\"0 0 24 24\"\n",
              "       width=\"24px\">\n",
              "    <path d=\"M0 0h24v24H0V0z\" fill=\"none\"/>\n",
              "    <path d=\"M18.56 5.44l.94 2.06.94-2.06 2.06-.94-2.06-.94-.94-2.06-.94 2.06-2.06.94zm-11 1L8.5 8.5l.94-2.06 2.06-.94-2.06-.94L8.5 2.5l-.94 2.06-2.06.94zm10 10l.94 2.06.94-2.06 2.06-.94-2.06-.94-.94-2.06-.94 2.06-2.06.94z\"/><path d=\"M17.41 7.96l-1.37-1.37c-.4-.4-.92-.59-1.43-.59-.52 0-1.04.2-1.43.59L10.3 9.45l-7.72 7.72c-.78.78-.78 2.05 0 2.83L4 21.41c.39.39.9.59 1.41.59.51 0 1.02-.2 1.41-.59l7.78-7.78 2.81-2.81c.8-.78.8-2.07 0-2.86zM5.41 20L4 18.59l7.72-7.72 1.47 1.35L5.41 20z\"/>\n",
              "  </svg>\n",
              "      </button>\n",
              "      \n",
              "  <style>\n",
              "    .colab-df-container {\n",
              "      display:flex;\n",
              "      flex-wrap:wrap;\n",
              "      gap: 12px;\n",
              "    }\n",
              "\n",
              "    .colab-df-convert {\n",
              "      background-color: #E8F0FE;\n",
              "      border: none;\n",
              "      border-radius: 50%;\n",
              "      cursor: pointer;\n",
              "      display: none;\n",
              "      fill: #1967D2;\n",
              "      height: 32px;\n",
              "      padding: 0 0 0 0;\n",
              "      width: 32px;\n",
              "    }\n",
              "\n",
              "    .colab-df-convert:hover {\n",
              "      background-color: #E2EBFA;\n",
              "      box-shadow: 0px 1px 2px rgba(60, 64, 67, 0.3), 0px 1px 3px 1px rgba(60, 64, 67, 0.15);\n",
              "      fill: #174EA6;\n",
              "    }\n",
              "\n",
              "    [theme=dark] .colab-df-convert {\n",
              "      background-color: #3B4455;\n",
              "      fill: #D2E3FC;\n",
              "    }\n",
              "\n",
              "    [theme=dark] .colab-df-convert:hover {\n",
              "      background-color: #434B5C;\n",
              "      box-shadow: 0px 1px 3px 1px rgba(0, 0, 0, 0.15);\n",
              "      filter: drop-shadow(0px 1px 2px rgba(0, 0, 0, 0.3));\n",
              "      fill: #FFFFFF;\n",
              "    }\n",
              "  </style>\n",
              "\n",
              "      <script>\n",
              "        const buttonEl =\n",
              "          document.querySelector('#df-4831c330-bd8e-4494-aefd-b95abc0cbc31 button.colab-df-convert');\n",
              "        buttonEl.style.display =\n",
              "          google.colab.kernel.accessAllowed ? 'block' : 'none';\n",
              "\n",
              "        async function convertToInteractive(key) {\n",
              "          const element = document.querySelector('#df-4831c330-bd8e-4494-aefd-b95abc0cbc31');\n",
              "          const dataTable =\n",
              "            await google.colab.kernel.invokeFunction('convertToInteractive',\n",
              "                                                     [key], {});\n",
              "          if (!dataTable) return;\n",
              "\n",
              "          const docLinkHtml = 'Like what you see? Visit the ' +\n",
              "            '<a target=\"_blank\" href=https://colab.research.google.com/notebooks/data_table.ipynb>data table notebook</a>'\n",
              "            + ' to learn more about interactive tables.';\n",
              "          element.innerHTML = '';\n",
              "          dataTable['output_type'] = 'display_data';\n",
              "          await google.colab.output.renderOutput(dataTable, element);\n",
              "          const docLink = document.createElement('div');\n",
              "          docLink.innerHTML = docLinkHtml;\n",
              "          element.appendChild(docLink);\n",
              "        }\n",
              "      </script>\n",
              "    </div>\n",
              "  </div>\n",
              "  "
            ],
            "text/plain": [
              "       PRODUCT_ID         Vendor\n",
              "0               1         Others\n",
              "1               2         Others\n",
              "2               3         Others\n",
              "3               4         Others\n",
              "4               5         Others\n",
              "...           ...            ...\n",
              "67170       67171  Private Label\n",
              "67171       67172  Private Label\n",
              "67172       67173  Private Label\n",
              "67173       67174  Private Label\n",
              "67174       67175  Private Label\n",
              "\n",
              "[67175 rows x 2 columns]"
            ]
          },
          "execution_count": 4,
          "metadata": {},
          "output_type": "execute_result"
        }
      ],
      "source": [
        "manufactur = pd.read_csv('/content/drive/My Drive/project dataset/product_manufacturer_list.csv')\n",
        "manufactur"
      ]
    },
    {
      "cell_type": "code",
      "execution_count": null,
      "metadata": {
        "colab": {
          "base_uri": "https://localhost:8080/",
          "height": 423
        },
        "id": "hTi7-b-3bzXi",
        "outputId": "73b7b807-1d4b-48eb-84a1-f5219be02b1e"
      },
      "outputs": [
        {
          "data": {
            "text/html": [
              "\n",
              "  <div id=\"df-c4a71edf-aad5-4579-8d89-7bda2ae8739c\">\n",
              "    <div class=\"colab-df-container\">\n",
              "      <div>\n",
              "<style scoped>\n",
              "    .dataframe tbody tr th:only-of-type {\n",
              "        vertical-align: middle;\n",
              "    }\n",
              "\n",
              "    .dataframe tbody tr th {\n",
              "        vertical-align: top;\n",
              "    }\n",
              "\n",
              "    .dataframe thead th {\n",
              "        text-align: right;\n",
              "    }\n",
              "</style>\n",
              "<table border=\"1\" class=\"dataframe\">\n",
              "  <thead>\n",
              "    <tr style=\"text-align: right;\">\n",
              "      <th></th>\n",
              "      <th>system_calendar_key_N</th>\n",
              "      <th>product_id</th>\n",
              "      <th>sales_dollars_value</th>\n",
              "      <th>sales_units_value</th>\n",
              "      <th>sales_lbs_value</th>\n",
              "    </tr>\n",
              "  </thead>\n",
              "  <tbody>\n",
              "    <tr>\n",
              "      <th>0</th>\n",
              "      <td>20160109</td>\n",
              "      <td>1</td>\n",
              "      <td>13927.0</td>\n",
              "      <td>934</td>\n",
              "      <td>18680</td>\n",
              "    </tr>\n",
              "    <tr>\n",
              "      <th>1</th>\n",
              "      <td>20160109</td>\n",
              "      <td>3</td>\n",
              "      <td>10289.0</td>\n",
              "      <td>1592</td>\n",
              "      <td>28646</td>\n",
              "    </tr>\n",
              "    <tr>\n",
              "      <th>2</th>\n",
              "      <td>20160109</td>\n",
              "      <td>4</td>\n",
              "      <td>357.0</td>\n",
              "      <td>22</td>\n",
              "      <td>440</td>\n",
              "    </tr>\n",
              "    <tr>\n",
              "      <th>3</th>\n",
              "      <td>20160109</td>\n",
              "      <td>6</td>\n",
              "      <td>23113.0</td>\n",
              "      <td>2027</td>\n",
              "      <td>81088</td>\n",
              "    </tr>\n",
              "    <tr>\n",
              "      <th>4</th>\n",
              "      <td>20160109</td>\n",
              "      <td>7</td>\n",
              "      <td>23177.0</td>\n",
              "      <td>3231</td>\n",
              "      <td>58164</td>\n",
              "    </tr>\n",
              "    <tr>\n",
              "      <th>...</th>\n",
              "      <td>...</td>\n",
              "      <td>...</td>\n",
              "      <td>...</td>\n",
              "      <td>...</td>\n",
              "      <td>...</td>\n",
              "    </tr>\n",
              "    <tr>\n",
              "      <th>4526177</th>\n",
              "      <td>20181027</td>\n",
              "      <td>47536</td>\n",
              "      <td>8.0</td>\n",
              "      <td>2</td>\n",
              "      <td>3</td>\n",
              "    </tr>\n",
              "    <tr>\n",
              "      <th>4526178</th>\n",
              "      <td>20181027</td>\n",
              "      <td>47539</td>\n",
              "      <td>391.0</td>\n",
              "      <td>39</td>\n",
              "      <td>68</td>\n",
              "    </tr>\n",
              "    <tr>\n",
              "      <th>4526179</th>\n",
              "      <td>20181027</td>\n",
              "      <td>47543</td>\n",
              "      <td>105.0</td>\n",
              "      <td>59</td>\n",
              "      <td>48</td>\n",
              "    </tr>\n",
              "    <tr>\n",
              "      <th>4526180</th>\n",
              "      <td>20181027</td>\n",
              "      <td>47544</td>\n",
              "      <td>3720.0</td>\n",
              "      <td>1246</td>\n",
              "      <td>4361</td>\n",
              "    </tr>\n",
              "    <tr>\n",
              "      <th>4526181</th>\n",
              "      <td>20181027</td>\n",
              "      <td>47545</td>\n",
              "      <td>1729.0</td>\n",
              "      <td>2016</td>\n",
              "      <td>378</td>\n",
              "    </tr>\n",
              "  </tbody>\n",
              "</table>\n",
              "<p>4526182 rows × 5 columns</p>\n",
              "</div>\n",
              "      <button class=\"colab-df-convert\" onclick=\"convertToInteractive('df-c4a71edf-aad5-4579-8d89-7bda2ae8739c')\"\n",
              "              title=\"Convert this dataframe to an interactive table.\"\n",
              "              style=\"display:none;\">\n",
              "        \n",
              "  <svg xmlns=\"http://www.w3.org/2000/svg\" height=\"24px\"viewBox=\"0 0 24 24\"\n",
              "       width=\"24px\">\n",
              "    <path d=\"M0 0h24v24H0V0z\" fill=\"none\"/>\n",
              "    <path d=\"M18.56 5.44l.94 2.06.94-2.06 2.06-.94-2.06-.94-.94-2.06-.94 2.06-2.06.94zm-11 1L8.5 8.5l.94-2.06 2.06-.94-2.06-.94L8.5 2.5l-.94 2.06-2.06.94zm10 10l.94 2.06.94-2.06 2.06-.94-2.06-.94-.94-2.06-.94 2.06-2.06.94z\"/><path d=\"M17.41 7.96l-1.37-1.37c-.4-.4-.92-.59-1.43-.59-.52 0-1.04.2-1.43.59L10.3 9.45l-7.72 7.72c-.78.78-.78 2.05 0 2.83L4 21.41c.39.39.9.59 1.41.59.51 0 1.02-.2 1.41-.59l7.78-7.78 2.81-2.81c.8-.78.8-2.07 0-2.86zM5.41 20L4 18.59l7.72-7.72 1.47 1.35L5.41 20z\"/>\n",
              "  </svg>\n",
              "      </button>\n",
              "      \n",
              "  <style>\n",
              "    .colab-df-container {\n",
              "      display:flex;\n",
              "      flex-wrap:wrap;\n",
              "      gap: 12px;\n",
              "    }\n",
              "\n",
              "    .colab-df-convert {\n",
              "      background-color: #E8F0FE;\n",
              "      border: none;\n",
              "      border-radius: 50%;\n",
              "      cursor: pointer;\n",
              "      display: none;\n",
              "      fill: #1967D2;\n",
              "      height: 32px;\n",
              "      padding: 0 0 0 0;\n",
              "      width: 32px;\n",
              "    }\n",
              "\n",
              "    .colab-df-convert:hover {\n",
              "      background-color: #E2EBFA;\n",
              "      box-shadow: 0px 1px 2px rgba(60, 64, 67, 0.3), 0px 1px 3px 1px rgba(60, 64, 67, 0.15);\n",
              "      fill: #174EA6;\n",
              "    }\n",
              "\n",
              "    [theme=dark] .colab-df-convert {\n",
              "      background-color: #3B4455;\n",
              "      fill: #D2E3FC;\n",
              "    }\n",
              "\n",
              "    [theme=dark] .colab-df-convert:hover {\n",
              "      background-color: #434B5C;\n",
              "      box-shadow: 0px 1px 3px 1px rgba(0, 0, 0, 0.15);\n",
              "      filter: drop-shadow(0px 1px 2px rgba(0, 0, 0, 0.3));\n",
              "      fill: #FFFFFF;\n",
              "    }\n",
              "  </style>\n",
              "\n",
              "      <script>\n",
              "        const buttonEl =\n",
              "          document.querySelector('#df-c4a71edf-aad5-4579-8d89-7bda2ae8739c button.colab-df-convert');\n",
              "        buttonEl.style.display =\n",
              "          google.colab.kernel.accessAllowed ? 'block' : 'none';\n",
              "\n",
              "        async function convertToInteractive(key) {\n",
              "          const element = document.querySelector('#df-c4a71edf-aad5-4579-8d89-7bda2ae8739c');\n",
              "          const dataTable =\n",
              "            await google.colab.kernel.invokeFunction('convertToInteractive',\n",
              "                                                     [key], {});\n",
              "          if (!dataTable) return;\n",
              "\n",
              "          const docLinkHtml = 'Like what you see? Visit the ' +\n",
              "            '<a target=\"_blank\" href=https://colab.research.google.com/notebooks/data_table.ipynb>data table notebook</a>'\n",
              "            + ' to learn more about interactive tables.';\n",
              "          element.innerHTML = '';\n",
              "          dataTable['output_type'] = 'display_data';\n",
              "          await google.colab.output.renderOutput(dataTable, element);\n",
              "          const docLink = document.createElement('div');\n",
              "          docLink.innerHTML = docLinkHtml;\n",
              "          element.appendChild(docLink);\n",
              "        }\n",
              "      </script>\n",
              "    </div>\n",
              "  </div>\n",
              "  "
            ],
            "text/plain": [
              "         system_calendar_key_N  product_id  sales_dollars_value  \\\n",
              "0                     20160109           1              13927.0   \n",
              "1                     20160109           3              10289.0   \n",
              "2                     20160109           4                357.0   \n",
              "3                     20160109           6              23113.0   \n",
              "4                     20160109           7              23177.0   \n",
              "...                        ...         ...                  ...   \n",
              "4526177               20181027       47536                  8.0   \n",
              "4526178               20181027       47539                391.0   \n",
              "4526179               20181027       47543                105.0   \n",
              "4526180               20181027       47544               3720.0   \n",
              "4526181               20181027       47545               1729.0   \n",
              "\n",
              "         sales_units_value  sales_lbs_value  \n",
              "0                      934            18680  \n",
              "1                     1592            28646  \n",
              "2                       22              440  \n",
              "3                     2027            81088  \n",
              "4                     3231            58164  \n",
              "...                    ...              ...  \n",
              "4526177                  2                3  \n",
              "4526178                 39               68  \n",
              "4526179                 59               48  \n",
              "4526180               1246             4361  \n",
              "4526181               2016              378  \n",
              "\n",
              "[4526182 rows x 5 columns]"
            ]
          },
          "execution_count": 5,
          "metadata": {},
          "output_type": "execute_result"
        }
      ],
      "source": [
        "sales = pd.read_csv('/content/drive/My Drive/project dataset/sales_data.csv')\n",
        "sales"
      ]
    },
    {
      "cell_type": "code",
      "execution_count": null,
      "metadata": {
        "colab": {
          "base_uri": "https://localhost:8080/",
          "height": 423
        },
        "id": "PxYeizbRm1Nb",
        "outputId": "8c9b9221-58ed-4734-e7a9-ad11d284ddc2"
      },
      "outputs": [
        {
          "data": {
            "text/html": [
              "\n",
              "  <div id=\"df-775cbd1f-7a45-4485-9dee-5eda44c4ee8c\">\n",
              "    <div class=\"colab-df-container\">\n",
              "      <div>\n",
              "<style scoped>\n",
              "    .dataframe tbody tr th:only-of-type {\n",
              "        vertical-align: middle;\n",
              "    }\n",
              "\n",
              "    .dataframe tbody tr th {\n",
              "        vertical-align: top;\n",
              "    }\n",
              "\n",
              "    .dataframe thead th {\n",
              "        text-align: right;\n",
              "    }\n",
              "</style>\n",
              "<table border=\"1\" class=\"dataframe\">\n",
              "  <thead>\n",
              "    <tr style=\"text-align: right;\">\n",
              "      <th></th>\n",
              "      <th>Theme Id</th>\n",
              "      <th>published_date</th>\n",
              "      <th>total_post</th>\n",
              "    </tr>\n",
              "  </thead>\n",
              "  <tbody>\n",
              "    <tr>\n",
              "      <th>0</th>\n",
              "      <td>148.0</td>\n",
              "      <td>10/1/2015</td>\n",
              "      <td>76</td>\n",
              "    </tr>\n",
              "    <tr>\n",
              "      <th>1</th>\n",
              "      <td>148.0</td>\n",
              "      <td>10/10/2015</td>\n",
              "      <td>31</td>\n",
              "    </tr>\n",
              "    <tr>\n",
              "      <th>2</th>\n",
              "      <td>148.0</td>\n",
              "      <td>10/11/2015</td>\n",
              "      <td>65</td>\n",
              "    </tr>\n",
              "    <tr>\n",
              "      <th>3</th>\n",
              "      <td>148.0</td>\n",
              "      <td>10/12/2015</td>\n",
              "      <td>88</td>\n",
              "    </tr>\n",
              "    <tr>\n",
              "      <th>4</th>\n",
              "      <td>148.0</td>\n",
              "      <td>10/13/2015</td>\n",
              "      <td>85</td>\n",
              "    </tr>\n",
              "    <tr>\n",
              "      <th>...</th>\n",
              "      <td>...</td>\n",
              "      <td>...</td>\n",
              "      <td>...</td>\n",
              "    </tr>\n",
              "    <tr>\n",
              "      <th>533385</th>\n",
              "      <td>876.0</td>\n",
              "      <td>9/5/2019</td>\n",
              "      <td>4658</td>\n",
              "    </tr>\n",
              "    <tr>\n",
              "      <th>533386</th>\n",
              "      <td>876.0</td>\n",
              "      <td>9/6/2019</td>\n",
              "      <td>3731</td>\n",
              "    </tr>\n",
              "    <tr>\n",
              "      <th>533387</th>\n",
              "      <td>876.0</td>\n",
              "      <td>9/7/2019</td>\n",
              "      <td>2336</td>\n",
              "    </tr>\n",
              "    <tr>\n",
              "      <th>533388</th>\n",
              "      <td>876.0</td>\n",
              "      <td>9/8/2019</td>\n",
              "      <td>1374</td>\n",
              "    </tr>\n",
              "    <tr>\n",
              "      <th>533389</th>\n",
              "      <td>876.0</td>\n",
              "      <td>9/9/2019</td>\n",
              "      <td>1442</td>\n",
              "    </tr>\n",
              "  </tbody>\n",
              "</table>\n",
              "<p>533390 rows × 3 columns</p>\n",
              "</div>\n",
              "      <button class=\"colab-df-convert\" onclick=\"convertToInteractive('df-775cbd1f-7a45-4485-9dee-5eda44c4ee8c')\"\n",
              "              title=\"Convert this dataframe to an interactive table.\"\n",
              "              style=\"display:none;\">\n",
              "        \n",
              "  <svg xmlns=\"http://www.w3.org/2000/svg\" height=\"24px\"viewBox=\"0 0 24 24\"\n",
              "       width=\"24px\">\n",
              "    <path d=\"M0 0h24v24H0V0z\" fill=\"none\"/>\n",
              "    <path d=\"M18.56 5.44l.94 2.06.94-2.06 2.06-.94-2.06-.94-.94-2.06-.94 2.06-2.06.94zm-11 1L8.5 8.5l.94-2.06 2.06-.94-2.06-.94L8.5 2.5l-.94 2.06-2.06.94zm10 10l.94 2.06.94-2.06 2.06-.94-2.06-.94-.94-2.06-.94 2.06-2.06.94z\"/><path d=\"M17.41 7.96l-1.37-1.37c-.4-.4-.92-.59-1.43-.59-.52 0-1.04.2-1.43.59L10.3 9.45l-7.72 7.72c-.78.78-.78 2.05 0 2.83L4 21.41c.39.39.9.59 1.41.59.51 0 1.02-.2 1.41-.59l7.78-7.78 2.81-2.81c.8-.78.8-2.07 0-2.86zM5.41 20L4 18.59l7.72-7.72 1.47 1.35L5.41 20z\"/>\n",
              "  </svg>\n",
              "      </button>\n",
              "      \n",
              "  <style>\n",
              "    .colab-df-container {\n",
              "      display:flex;\n",
              "      flex-wrap:wrap;\n",
              "      gap: 12px;\n",
              "    }\n",
              "\n",
              "    .colab-df-convert {\n",
              "      background-color: #E8F0FE;\n",
              "      border: none;\n",
              "      border-radius: 50%;\n",
              "      cursor: pointer;\n",
              "      display: none;\n",
              "      fill: #1967D2;\n",
              "      height: 32px;\n",
              "      padding: 0 0 0 0;\n",
              "      width: 32px;\n",
              "    }\n",
              "\n",
              "    .colab-df-convert:hover {\n",
              "      background-color: #E2EBFA;\n",
              "      box-shadow: 0px 1px 2px rgba(60, 64, 67, 0.3), 0px 1px 3px 1px rgba(60, 64, 67, 0.15);\n",
              "      fill: #174EA6;\n",
              "    }\n",
              "\n",
              "    [theme=dark] .colab-df-convert {\n",
              "      background-color: #3B4455;\n",
              "      fill: #D2E3FC;\n",
              "    }\n",
              "\n",
              "    [theme=dark] .colab-df-convert:hover {\n",
              "      background-color: #434B5C;\n",
              "      box-shadow: 0px 1px 3px 1px rgba(0, 0, 0, 0.15);\n",
              "      filter: drop-shadow(0px 1px 2px rgba(0, 0, 0, 0.3));\n",
              "      fill: #FFFFFF;\n",
              "    }\n",
              "  </style>\n",
              "\n",
              "      <script>\n",
              "        const buttonEl =\n",
              "          document.querySelector('#df-775cbd1f-7a45-4485-9dee-5eda44c4ee8c button.colab-df-convert');\n",
              "        buttonEl.style.display =\n",
              "          google.colab.kernel.accessAllowed ? 'block' : 'none';\n",
              "\n",
              "        async function convertToInteractive(key) {\n",
              "          const element = document.querySelector('#df-775cbd1f-7a45-4485-9dee-5eda44c4ee8c');\n",
              "          const dataTable =\n",
              "            await google.colab.kernel.invokeFunction('convertToInteractive',\n",
              "                                                     [key], {});\n",
              "          if (!dataTable) return;\n",
              "\n",
              "          const docLinkHtml = 'Like what you see? Visit the ' +\n",
              "            '<a target=\"_blank\" href=https://colab.research.google.com/notebooks/data_table.ipynb>data table notebook</a>'\n",
              "            + ' to learn more about interactive tables.';\n",
              "          element.innerHTML = '';\n",
              "          dataTable['output_type'] = 'display_data';\n",
              "          await google.colab.output.renderOutput(dataTable, element);\n",
              "          const docLink = document.createElement('div');\n",
              "          docLink.innerHTML = docLinkHtml;\n",
              "          element.appendChild(docLink);\n",
              "        }\n",
              "      </script>\n",
              "    </div>\n",
              "  </div>\n",
              "  "
            ],
            "text/plain": [
              "        Theme Id published_date  total_post\n",
              "0          148.0      10/1/2015          76\n",
              "1          148.0     10/10/2015          31\n",
              "2          148.0     10/11/2015          65\n",
              "3          148.0     10/12/2015          88\n",
              "4          148.0     10/13/2015          85\n",
              "...          ...            ...         ...\n",
              "533385     876.0       9/5/2019        4658\n",
              "533386     876.0       9/6/2019        3731\n",
              "533387     876.0       9/7/2019        2336\n",
              "533388     876.0       9/8/2019        1374\n",
              "533389     876.0       9/9/2019        1442\n",
              "\n",
              "[533390 rows x 3 columns]"
            ]
          },
          "execution_count": 6,
          "metadata": {},
          "output_type": "execute_result"
        }
      ],
      "source": [
        "sm = pd.read_csv('/content/drive/My Drive/project dataset/social_media_data.csv')\n",
        "sm"
      ]
    },
    {
      "cell_type": "code",
      "execution_count": null,
      "metadata": {
        "colab": {
          "base_uri": "https://localhost:8080/",
          "height": 423
        },
        "id": "OL3V7DNDnWCx",
        "outputId": "05c1e3f6-d029-49f6-cc21-6665caa8d656"
      },
      "outputs": [
        {
          "data": {
            "text/html": [
              "\n",
              "  <div id=\"df-33dedc41-e1f9-4240-9be0-57adb14c0da4\">\n",
              "    <div class=\"colab-df-container\">\n",
              "      <div>\n",
              "<style scoped>\n",
              "    .dataframe tbody tr th:only-of-type {\n",
              "        vertical-align: middle;\n",
              "    }\n",
              "\n",
              "    .dataframe tbody tr th {\n",
              "        vertical-align: top;\n",
              "    }\n",
              "\n",
              "    .dataframe thead th {\n",
              "        text-align: right;\n",
              "    }\n",
              "</style>\n",
              "<table border=\"1\" class=\"dataframe\">\n",
              "  <thead>\n",
              "    <tr style=\"text-align: right;\">\n",
              "      <th></th>\n",
              "      <th>CLAIM_ID</th>\n",
              "      <th>Claim Name</th>\n",
              "    </tr>\n",
              "  </thead>\n",
              "  <tbody>\n",
              "    <tr>\n",
              "      <th>0</th>\n",
              "      <td>0</td>\n",
              "      <td>No Claim</td>\n",
              "    </tr>\n",
              "    <tr>\n",
              "      <th>1</th>\n",
              "      <td>8</td>\n",
              "      <td>low carb</td>\n",
              "    </tr>\n",
              "    <tr>\n",
              "      <th>2</th>\n",
              "      <td>15</td>\n",
              "      <td>beans</td>\n",
              "    </tr>\n",
              "    <tr>\n",
              "      <th>3</th>\n",
              "      <td>16</td>\n",
              "      <td>cocoa</td>\n",
              "    </tr>\n",
              "    <tr>\n",
              "      <th>4</th>\n",
              "      <td>26</td>\n",
              "      <td>vanilla</td>\n",
              "    </tr>\n",
              "    <tr>\n",
              "      <th>...</th>\n",
              "      <td>...</td>\n",
              "      <td>...</td>\n",
              "    </tr>\n",
              "    <tr>\n",
              "      <th>203</th>\n",
              "      <td>508</td>\n",
              "      <td>cola</td>\n",
              "    </tr>\n",
              "    <tr>\n",
              "      <th>204</th>\n",
              "      <td>769</td>\n",
              "      <td>shortbread</td>\n",
              "    </tr>\n",
              "    <tr>\n",
              "      <th>205</th>\n",
              "      <td>949</td>\n",
              "      <td>passion fruit</td>\n",
              "    </tr>\n",
              "    <tr>\n",
              "      <th>206</th>\n",
              "      <td>521</td>\n",
              "      <td>blood orange</td>\n",
              "    </tr>\n",
              "    <tr>\n",
              "      <th>207</th>\n",
              "      <td>876</td>\n",
              "      <td>caramel</td>\n",
              "    </tr>\n",
              "  </tbody>\n",
              "</table>\n",
              "<p>208 rows × 2 columns</p>\n",
              "</div>\n",
              "      <button class=\"colab-df-convert\" onclick=\"convertToInteractive('df-33dedc41-e1f9-4240-9be0-57adb14c0da4')\"\n",
              "              title=\"Convert this dataframe to an interactive table.\"\n",
              "              style=\"display:none;\">\n",
              "        \n",
              "  <svg xmlns=\"http://www.w3.org/2000/svg\" height=\"24px\"viewBox=\"0 0 24 24\"\n",
              "       width=\"24px\">\n",
              "    <path d=\"M0 0h24v24H0V0z\" fill=\"none\"/>\n",
              "    <path d=\"M18.56 5.44l.94 2.06.94-2.06 2.06-.94-2.06-.94-.94-2.06-.94 2.06-2.06.94zm-11 1L8.5 8.5l.94-2.06 2.06-.94-2.06-.94L8.5 2.5l-.94 2.06-2.06.94zm10 10l.94 2.06.94-2.06 2.06-.94-2.06-.94-.94-2.06-.94 2.06-2.06.94z\"/><path d=\"M17.41 7.96l-1.37-1.37c-.4-.4-.92-.59-1.43-.59-.52 0-1.04.2-1.43.59L10.3 9.45l-7.72 7.72c-.78.78-.78 2.05 0 2.83L4 21.41c.39.39.9.59 1.41.59.51 0 1.02-.2 1.41-.59l7.78-7.78 2.81-2.81c.8-.78.8-2.07 0-2.86zM5.41 20L4 18.59l7.72-7.72 1.47 1.35L5.41 20z\"/>\n",
              "  </svg>\n",
              "      </button>\n",
              "      \n",
              "  <style>\n",
              "    .colab-df-container {\n",
              "      display:flex;\n",
              "      flex-wrap:wrap;\n",
              "      gap: 12px;\n",
              "    }\n",
              "\n",
              "    .colab-df-convert {\n",
              "      background-color: #E8F0FE;\n",
              "      border: none;\n",
              "      border-radius: 50%;\n",
              "      cursor: pointer;\n",
              "      display: none;\n",
              "      fill: #1967D2;\n",
              "      height: 32px;\n",
              "      padding: 0 0 0 0;\n",
              "      width: 32px;\n",
              "    }\n",
              "\n",
              "    .colab-df-convert:hover {\n",
              "      background-color: #E2EBFA;\n",
              "      box-shadow: 0px 1px 2px rgba(60, 64, 67, 0.3), 0px 1px 3px 1px rgba(60, 64, 67, 0.15);\n",
              "      fill: #174EA6;\n",
              "    }\n",
              "\n",
              "    [theme=dark] .colab-df-convert {\n",
              "      background-color: #3B4455;\n",
              "      fill: #D2E3FC;\n",
              "    }\n",
              "\n",
              "    [theme=dark] .colab-df-convert:hover {\n",
              "      background-color: #434B5C;\n",
              "      box-shadow: 0px 1px 3px 1px rgba(0, 0, 0, 0.15);\n",
              "      filter: drop-shadow(0px 1px 2px rgba(0, 0, 0, 0.3));\n",
              "      fill: #FFFFFF;\n",
              "    }\n",
              "  </style>\n",
              "\n",
              "      <script>\n",
              "        const buttonEl =\n",
              "          document.querySelector('#df-33dedc41-e1f9-4240-9be0-57adb14c0da4 button.colab-df-convert');\n",
              "        buttonEl.style.display =\n",
              "          google.colab.kernel.accessAllowed ? 'block' : 'none';\n",
              "\n",
              "        async function convertToInteractive(key) {\n",
              "          const element = document.querySelector('#df-33dedc41-e1f9-4240-9be0-57adb14c0da4');\n",
              "          const dataTable =\n",
              "            await google.colab.kernel.invokeFunction('convertToInteractive',\n",
              "                                                     [key], {});\n",
              "          if (!dataTable) return;\n",
              "\n",
              "          const docLinkHtml = 'Like what you see? Visit the ' +\n",
              "            '<a target=\"_blank\" href=https://colab.research.google.com/notebooks/data_table.ipynb>data table notebook</a>'\n",
              "            + ' to learn more about interactive tables.';\n",
              "          element.innerHTML = '';\n",
              "          dataTable['output_type'] = 'display_data';\n",
              "          await google.colab.output.renderOutput(dataTable, element);\n",
              "          const docLink = document.createElement('div');\n",
              "          docLink.innerHTML = docLinkHtml;\n",
              "          element.appendChild(docLink);\n",
              "        }\n",
              "      </script>\n",
              "    </div>\n",
              "  </div>\n",
              "  "
            ],
            "text/plain": [
              "     CLAIM_ID     Claim Name\n",
              "0           0       No Claim\n",
              "1           8       low carb\n",
              "2          15          beans\n",
              "3          16          cocoa\n",
              "4          26        vanilla\n",
              "..        ...            ...\n",
              "203       508           cola\n",
              "204       769     shortbread\n",
              "205       949  passion fruit\n",
              "206       521   blood orange\n",
              "207       876        caramel\n",
              "\n",
              "[208 rows x 2 columns]"
            ]
          },
          "execution_count": 7,
          "metadata": {},
          "output_type": "execute_result"
        }
      ],
      "source": [
        "theme = pd.read_csv('/content/drive/My Drive/project dataset/Theme_list.csv')\n",
        "theme"
      ]
    },
    {
      "cell_type": "code",
      "execution_count": null,
      "metadata": {
        "colab": {
          "base_uri": "https://localhost:8080/",
          "height": 423
        },
        "id": "pUhxuriRnXpO",
        "outputId": "b15da221-c918-4e62-cd78-c6cb49b634fd"
      },
      "outputs": [
        {
          "data": {
            "text/html": [
              "\n",
              "  <div id=\"df-76280e09-1f8f-48d9-97b1-4c6ba19e881b\">\n",
              "    <div class=\"colab-df-container\">\n",
              "      <div>\n",
              "<style scoped>\n",
              "    .dataframe tbody tr th:only-of-type {\n",
              "        vertical-align: middle;\n",
              "    }\n",
              "\n",
              "    .dataframe tbody tr th {\n",
              "        vertical-align: top;\n",
              "    }\n",
              "\n",
              "    .dataframe thead th {\n",
              "        text-align: right;\n",
              "    }\n",
              "</style>\n",
              "<table border=\"1\" class=\"dataframe\">\n",
              "  <thead>\n",
              "    <tr style=\"text-align: right;\">\n",
              "      <th></th>\n",
              "      <th>PRODUCT_ID</th>\n",
              "      <th>CLAIM_ID</th>\n",
              "    </tr>\n",
              "  </thead>\n",
              "  <tbody>\n",
              "    <tr>\n",
              "      <th>0</th>\n",
              "      <td>26</td>\n",
              "      <td>8</td>\n",
              "    </tr>\n",
              "    <tr>\n",
              "      <th>1</th>\n",
              "      <td>29</td>\n",
              "      <td>8</td>\n",
              "    </tr>\n",
              "    <tr>\n",
              "      <th>2</th>\n",
              "      <td>48</td>\n",
              "      <td>81</td>\n",
              "    </tr>\n",
              "    <tr>\n",
              "      <th>3</th>\n",
              "      <td>50</td>\n",
              "      <td>81</td>\n",
              "    </tr>\n",
              "    <tr>\n",
              "      <th>4</th>\n",
              "      <td>74</td>\n",
              "      <td>227</td>\n",
              "    </tr>\n",
              "    <tr>\n",
              "      <th>...</th>\n",
              "      <td>...</td>\n",
              "      <td>...</td>\n",
              "    </tr>\n",
              "    <tr>\n",
              "      <th>91480</th>\n",
              "      <td>8158</td>\n",
              "      <td>0</td>\n",
              "    </tr>\n",
              "    <tr>\n",
              "      <th>91481</th>\n",
              "      <td>45183</td>\n",
              "      <td>0</td>\n",
              "    </tr>\n",
              "    <tr>\n",
              "      <th>91482</th>\n",
              "      <td>25690</td>\n",
              "      <td>0</td>\n",
              "    </tr>\n",
              "    <tr>\n",
              "      <th>91483</th>\n",
              "      <td>46085</td>\n",
              "      <td>0</td>\n",
              "    </tr>\n",
              "    <tr>\n",
              "      <th>91484</th>\n",
              "      <td>34907</td>\n",
              "      <td>0</td>\n",
              "    </tr>\n",
              "  </tbody>\n",
              "</table>\n",
              "<p>91485 rows × 2 columns</p>\n",
              "</div>\n",
              "      <button class=\"colab-df-convert\" onclick=\"convertToInteractive('df-76280e09-1f8f-48d9-97b1-4c6ba19e881b')\"\n",
              "              title=\"Convert this dataframe to an interactive table.\"\n",
              "              style=\"display:none;\">\n",
              "        \n",
              "  <svg xmlns=\"http://www.w3.org/2000/svg\" height=\"24px\"viewBox=\"0 0 24 24\"\n",
              "       width=\"24px\">\n",
              "    <path d=\"M0 0h24v24H0V0z\" fill=\"none\"/>\n",
              "    <path d=\"M18.56 5.44l.94 2.06.94-2.06 2.06-.94-2.06-.94-.94-2.06-.94 2.06-2.06.94zm-11 1L8.5 8.5l.94-2.06 2.06-.94-2.06-.94L8.5 2.5l-.94 2.06-2.06.94zm10 10l.94 2.06.94-2.06 2.06-.94-2.06-.94-.94-2.06-.94 2.06-2.06.94z\"/><path d=\"M17.41 7.96l-1.37-1.37c-.4-.4-.92-.59-1.43-.59-.52 0-1.04.2-1.43.59L10.3 9.45l-7.72 7.72c-.78.78-.78 2.05 0 2.83L4 21.41c.39.39.9.59 1.41.59.51 0 1.02-.2 1.41-.59l7.78-7.78 2.81-2.81c.8-.78.8-2.07 0-2.86zM5.41 20L4 18.59l7.72-7.72 1.47 1.35L5.41 20z\"/>\n",
              "  </svg>\n",
              "      </button>\n",
              "      \n",
              "  <style>\n",
              "    .colab-df-container {\n",
              "      display:flex;\n",
              "      flex-wrap:wrap;\n",
              "      gap: 12px;\n",
              "    }\n",
              "\n",
              "    .colab-df-convert {\n",
              "      background-color: #E8F0FE;\n",
              "      border: none;\n",
              "      border-radius: 50%;\n",
              "      cursor: pointer;\n",
              "      display: none;\n",
              "      fill: #1967D2;\n",
              "      height: 32px;\n",
              "      padding: 0 0 0 0;\n",
              "      width: 32px;\n",
              "    }\n",
              "\n",
              "    .colab-df-convert:hover {\n",
              "      background-color: #E2EBFA;\n",
              "      box-shadow: 0px 1px 2px rgba(60, 64, 67, 0.3), 0px 1px 3px 1px rgba(60, 64, 67, 0.15);\n",
              "      fill: #174EA6;\n",
              "    }\n",
              "\n",
              "    [theme=dark] .colab-df-convert {\n",
              "      background-color: #3B4455;\n",
              "      fill: #D2E3FC;\n",
              "    }\n",
              "\n",
              "    [theme=dark] .colab-df-convert:hover {\n",
              "      background-color: #434B5C;\n",
              "      box-shadow: 0px 1px 3px 1px rgba(0, 0, 0, 0.15);\n",
              "      filter: drop-shadow(0px 1px 2px rgba(0, 0, 0, 0.3));\n",
              "      fill: #FFFFFF;\n",
              "    }\n",
              "  </style>\n",
              "\n",
              "      <script>\n",
              "        const buttonEl =\n",
              "          document.querySelector('#df-76280e09-1f8f-48d9-97b1-4c6ba19e881b button.colab-df-convert');\n",
              "        buttonEl.style.display =\n",
              "          google.colab.kernel.accessAllowed ? 'block' : 'none';\n",
              "\n",
              "        async function convertToInteractive(key) {\n",
              "          const element = document.querySelector('#df-76280e09-1f8f-48d9-97b1-4c6ba19e881b');\n",
              "          const dataTable =\n",
              "            await google.colab.kernel.invokeFunction('convertToInteractive',\n",
              "                                                     [key], {});\n",
              "          if (!dataTable) return;\n",
              "\n",
              "          const docLinkHtml = 'Like what you see? Visit the ' +\n",
              "            '<a target=\"_blank\" href=https://colab.research.google.com/notebooks/data_table.ipynb>data table notebook</a>'\n",
              "            + ' to learn more about interactive tables.';\n",
              "          element.innerHTML = '';\n",
              "          dataTable['output_type'] = 'display_data';\n",
              "          await google.colab.output.renderOutput(dataTable, element);\n",
              "          const docLink = document.createElement('div');\n",
              "          docLink.innerHTML = docLinkHtml;\n",
              "          element.appendChild(docLink);\n",
              "        }\n",
              "      </script>\n",
              "    </div>\n",
              "  </div>\n",
              "  "
            ],
            "text/plain": [
              "       PRODUCT_ID  CLAIM_ID\n",
              "0              26         8\n",
              "1              29         8\n",
              "2              48        81\n",
              "3              50        81\n",
              "4              74       227\n",
              "...           ...       ...\n",
              "91480        8158         0\n",
              "91481       45183         0\n",
              "91482       25690         0\n",
              "91483       46085         0\n",
              "91484       34907         0\n",
              "\n",
              "[91485 rows x 2 columns]"
            ]
          },
          "execution_count": 8,
          "metadata": {},
          "output_type": "execute_result"
        }
      ],
      "source": [
        "themeprod = pd.read_csv('/content/drive/My Drive/project dataset/Theme_product_list.csv')\n",
        "themeprod"
      ]
    },
    {
      "cell_type": "markdown",
      "metadata": {
        "id": "7kubvfQoZu_H"
      },
      "source": [
        "## Shape before clean"
      ]
    },
    {
      "cell_type": "code",
      "execution_count": null,
      "metadata": {
        "colab": {
          "base_uri": "https://localhost:8080/"
        },
        "id": "oeH9erE5oKcd",
        "outputId": "5f6e24f1-a5e3-45ee-ef45-7f825d4cff93"
      },
      "outputs": [
        {
          "data": {
            "text/plain": [
              "(181565, 6)"
            ]
          },
          "execution_count": 9,
          "metadata": {},
          "output_type": "execute_result"
        }
      ],
      "source": [
        "search.shape\n"
      ]
    },
    {
      "cell_type": "code",
      "execution_count": null,
      "metadata": {
        "colab": {
          "base_uri": "https://localhost:8080/"
        },
        "id": "a6bwpz4solne",
        "outputId": "ba490c7b-b516-4795-d625-278f3e32ed7a"
      },
      "outputs": [
        {
          "data": {
            "text/plain": [
              "(67175, 2)"
            ]
          },
          "execution_count": 10,
          "metadata": {},
          "output_type": "execute_result"
        }
      ],
      "source": [
        "manufactur.shape\n"
      ]
    },
    {
      "cell_type": "code",
      "execution_count": null,
      "metadata": {
        "colab": {
          "base_uri": "https://localhost:8080/"
        },
        "id": "3Hxcr2TSoncq",
        "outputId": "db7b7162-4cd3-4f8f-8aa1-56f13485dc63"
      },
      "outputs": [
        {
          "data": {
            "text/plain": [
              "(4526182, 5)"
            ]
          },
          "execution_count": 11,
          "metadata": {},
          "output_type": "execute_result"
        }
      ],
      "source": [
        "sales.shape\n"
      ]
    },
    {
      "cell_type": "code",
      "execution_count": null,
      "metadata": {
        "colab": {
          "base_uri": "https://localhost:8080/"
        },
        "id": "MY6fo1nFoo5p",
        "outputId": "ecd6fb2a-bf4e-456d-86c8-08e189e9f15f"
      },
      "outputs": [
        {
          "data": {
            "text/plain": [
              "(533390, 3)"
            ]
          },
          "execution_count": 12,
          "metadata": {},
          "output_type": "execute_result"
        }
      ],
      "source": [
        "sm.shape"
      ]
    },
    {
      "cell_type": "code",
      "execution_count": null,
      "metadata": {
        "colab": {
          "base_uri": "https://localhost:8080/"
        },
        "id": "QxWK2CS0oq0m",
        "outputId": "33aa6009-6016-44b4-ece6-fc722c7e409d"
      },
      "outputs": [
        {
          "data": {
            "text/plain": [
              "(208, 2)"
            ]
          },
          "execution_count": 13,
          "metadata": {},
          "output_type": "execute_result"
        }
      ],
      "source": [
        "theme.shape"
      ]
    },
    {
      "cell_type": "code",
      "execution_count": null,
      "metadata": {
        "colab": {
          "base_uri": "https://localhost:8080/"
        },
        "id": "Px1MDlIwosvp",
        "outputId": "1bf83b61-29d1-4405-af51-c3faf7605399"
      },
      "outputs": [
        {
          "data": {
            "text/plain": [
              "(91485, 2)"
            ]
          },
          "execution_count": 14,
          "metadata": {},
          "output_type": "execute_result"
        }
      ],
      "source": [
        "themeprod.shape"
      ]
    },
    {
      "cell_type": "markdown",
      "metadata": {
        "id": "53yJdTxEaVM8"
      },
      "source": [
        "## Task 1"
      ]
    },
    {
      "cell_type": "markdown",
      "metadata": {
        "id": "r155qJXMEWy5"
      },
      "source": [
        "For this task we will individually find out the number of missing and duplicated data in all datasets and print out the percentages of them"
      ]
    },
    {
      "cell_type": "code",
      "execution_count": null,
      "metadata": {
        "colab": {
          "base_uri": "https://localhost:8080/"
        },
        "id": "LTzzj0Vzo31E",
        "outputId": "889d97e3-3961-4a8f-d5a4-ff8d751196d0"
      },
      "outputs": [
        {
          "data": {
            "text/plain": [
              "date            0\n",
              "platform        0\n",
              "searchVolume    0\n",
              "Claim_ID        0\n",
              "week_number     0\n",
              "year_new        0\n",
              "dtype: int64"
            ]
          },
          "execution_count": 15,
          "metadata": {},
          "output_type": "execute_result"
        }
      ],
      "source": [
        "search.isnull().sum()"
      ]
    },
    {
      "cell_type": "code",
      "execution_count": null,
      "metadata": {
        "colab": {
          "base_uri": "https://localhost:8080/"
        },
        "id": "Isjx18HappPJ",
        "outputId": "16173930-c672-47ef-b6da-ae17742332b2"
      },
      "outputs": [
        {
          "data": {
            "text/plain": [
              "PRODUCT_ID    0\n",
              "Vendor        0\n",
              "dtype: int64"
            ]
          },
          "execution_count": 16,
          "metadata": {},
          "output_type": "execute_result"
        }
      ],
      "source": [
        "manufactur.isnull().sum()"
      ]
    },
    {
      "cell_type": "code",
      "execution_count": null,
      "metadata": {
        "colab": {
          "base_uri": "https://localhost:8080/"
        },
        "id": "cZOUAJxBpsos",
        "outputId": "6f13de5b-4380-4990-e102-35c63cde4f12"
      },
      "outputs": [
        {
          "data": {
            "text/plain": [
              "system_calendar_key_N    0\n",
              "product_id               0\n",
              "sales_dollars_value      0\n",
              "sales_units_value        0\n",
              "sales_lbs_value          0\n",
              "dtype: int64"
            ]
          },
          "execution_count": 17,
          "metadata": {},
          "output_type": "execute_result"
        }
      ],
      "source": [
        "sales.isnull().sum()"
      ]
    },
    {
      "cell_type": "code",
      "execution_count": null,
      "metadata": {
        "colab": {
          "base_uri": "https://localhost:8080/"
        },
        "id": "DaFuPcnJpx8q",
        "outputId": "58c37c16-44a4-497a-fd90-1fe6da196734"
      },
      "outputs": [
        {
          "data": {
            "text/plain": [
              "Theme Id          218511\n",
              "published_date         0\n",
              "total_post             0\n",
              "dtype: int64"
            ]
          },
          "execution_count": 18,
          "metadata": {},
          "output_type": "execute_result"
        }
      ],
      "source": [
        "sm.isnull().sum()"
      ]
    },
    {
      "cell_type": "code",
      "execution_count": null,
      "metadata": {
        "colab": {
          "base_uri": "https://localhost:8080/"
        },
        "id": "ziNG9rg4pzmL",
        "outputId": "21df3e49-5958-456f-df38-12e3e36e2c88"
      },
      "outputs": [
        {
          "data": {
            "text/plain": [
              "CLAIM_ID      0\n",
              "Claim Name    0\n",
              "dtype: int64"
            ]
          },
          "execution_count": 19,
          "metadata": {},
          "output_type": "execute_result"
        }
      ],
      "source": [
        "theme.isnull().sum()"
      ]
    },
    {
      "cell_type": "code",
      "execution_count": null,
      "metadata": {
        "colab": {
          "base_uri": "https://localhost:8080/"
        },
        "id": "THvxLoqcp1VS",
        "outputId": "aa59e861-7600-400a-a8f0-fa31b968ed47"
      },
      "outputs": [
        {
          "data": {
            "text/plain": [
              "PRODUCT_ID    0\n",
              "CLAIM_ID      0\n",
              "dtype: int64"
            ]
          },
          "execution_count": 20,
          "metadata": {},
          "output_type": "execute_result"
        }
      ],
      "source": [
        "themeprod.isnull().sum()"
      ]
    },
    {
      "cell_type": "code",
      "execution_count": null,
      "metadata": {
        "colab": {
          "base_uri": "https://localhost:8080/"
        },
        "id": "zUtL5L5PqkgH",
        "outputId": "aace1948-eeee-43cc-ae59-32a535206fa0"
      },
      "outputs": [
        {
          "name": "stdout",
          "output_type": "stream",
          "text": [
            "40\n"
          ]
        }
      ],
      "source": [
        "dups_search = search.duplicated().sum()\n",
        "print(dups_search)"
      ]
    },
    {
      "cell_type": "code",
      "execution_count": null,
      "metadata": {
        "colab": {
          "base_uri": "https://localhost:8080/"
        },
        "id": "Pb8aaCRIYe0i",
        "outputId": "955607db-0aaf-4bd1-c4b1-b5e31a85ae43"
      },
      "outputs": [
        {
          "name": "stdout",
          "output_type": "stream",
          "text": [
            "0\n"
          ]
        }
      ],
      "source": [
        "dups_manu = manufactur.duplicated().sum()\n",
        "print(dups_manu)"
      ]
    },
    {
      "cell_type": "code",
      "execution_count": null,
      "metadata": {
        "colab": {
          "base_uri": "https://localhost:8080/"
        },
        "id": "A358spw4Yiwz",
        "outputId": "8eb02e4f-cc55-401d-a443-9fd997c2c551"
      },
      "outputs": [
        {
          "name": "stdout",
          "output_type": "stream",
          "text": [
            "0\n"
          ]
        }
      ],
      "source": [
        "dups_sales = sales.duplicated().sum()\n",
        "print(dups_sales)"
      ]
    },
    {
      "cell_type": "code",
      "execution_count": null,
      "metadata": {
        "colab": {
          "base_uri": "https://localhost:8080/"
        },
        "id": "hfIwkVq3YmNE",
        "outputId": "3b606564-c15f-48f4-aba3-c4bc63af2a07"
      },
      "outputs": [
        {
          "name": "stdout",
          "output_type": "stream",
          "text": [
            "26299\n"
          ]
        }
      ],
      "source": [
        "dups_sm = sm.duplicated().sum()\n",
        "print(dups_sm)"
      ]
    },
    {
      "cell_type": "code",
      "execution_count": null,
      "metadata": {
        "colab": {
          "base_uri": "https://localhost:8080/"
        },
        "id": "f9GUR06eYpK6",
        "outputId": "7f464918-63ce-482f-b7d9-b5139a1121da"
      },
      "outputs": [
        {
          "name": "stdout",
          "output_type": "stream",
          "text": [
            "0\n"
          ]
        }
      ],
      "source": [
        "dups_theme = theme.duplicated().sum()\n",
        "print(dups_theme)"
      ]
    },
    {
      "cell_type": "code",
      "execution_count": null,
      "metadata": {
        "colab": {
          "base_uri": "https://localhost:8080/"
        },
        "id": "ru2wMJfmYra9",
        "outputId": "240181fe-82d7-47db-d0d3-57e23c60aedd"
      },
      "outputs": [
        {
          "name": "stdout",
          "output_type": "stream",
          "text": [
            "0\n"
          ]
        }
      ],
      "source": [
        "dups_themeprod = themeprod.duplicated().sum()\n",
        "print(dups_themeprod)"
      ]
    },
    {
      "cell_type": "code",
      "execution_count": null,
      "metadata": {
        "colab": {
          "base_uri": "https://localhost:8080/"
        },
        "id": "T-49RSECtUTH",
        "outputId": "9e62526f-770d-4f19-ad2c-cacb666c7220"
      },
      "outputs": [
        {
          "name": "stdout",
          "output_type": "stream",
          "text": [
            "The percentage of duplicated data is  0.022030677718723322\n"
          ]
        }
      ],
      "source": [
        "perct = (dups_search/len(search))*100\n",
        "print('The percentage of duplicated data is ' ,perct)"
      ]
    },
    {
      "cell_type": "code",
      "execution_count": null,
      "metadata": {
        "colab": {
          "base_uri": "https://localhost:8080/"
        },
        "id": "LDxnFhzryAW_",
        "outputId": "0ebb04fd-f40c-4d68-8aaa-cadc5c2710c0"
      },
      "outputs": [
        {
          "name": "stdout",
          "output_type": "stream",
          "text": [
            "The percentage of missing data is\n",
            " date            0.0\n",
            "platform        0.0\n",
            "searchVolume    0.0\n",
            "Claim_ID        0.0\n",
            "week_number     0.0\n",
            "year_new        0.0\n",
            "dtype: float64\n"
          ]
        }
      ],
      "source": [
        "perct = (search.isnull().sum()/len(search))*100\n",
        "print('The percentage of missing data is\\n' ,perct)"
      ]
    },
    {
      "cell_type": "code",
      "execution_count": null,
      "metadata": {
        "colab": {
          "base_uri": "https://localhost:8080/"
        },
        "id": "axHfIW2jyK6P",
        "outputId": "a3811b04-163a-4c50-b023-b8d7a9b453c5"
      },
      "outputs": [
        {
          "name": "stdout",
          "output_type": "stream",
          "text": [
            "The percentage of duplicated data is 0.0\n"
          ]
        }
      ],
      "source": [
        "perct = ((dups_sales)/len(sales))*100\n",
        "print('The percentage of duplicated data is' ,perct)"
      ]
    },
    {
      "cell_type": "code",
      "execution_count": null,
      "metadata": {
        "colab": {
          "base_uri": "https://localhost:8080/"
        },
        "id": "5hh5BE-qxWCa",
        "outputId": "baf7fa4b-62c8-4292-f440-b4d837c78648"
      },
      "outputs": [
        {
          "name": "stdout",
          "output_type": "stream",
          "text": [
            "The percentage of missing data is\n",
            " system_calendar_key_N    0.0\n",
            "product_id               0.0\n",
            "sales_dollars_value      0.0\n",
            "sales_units_value        0.0\n",
            "sales_lbs_value          0.0\n",
            "dtype: float64\n"
          ]
        }
      ],
      "source": [
        "perct = (sales.isnull().sum()/len(sales))*100\n",
        "print('The percentage of missing data is\\n' ,perct)"
      ]
    },
    {
      "cell_type": "code",
      "execution_count": null,
      "metadata": {
        "colab": {
          "base_uri": "https://localhost:8080/"
        },
        "id": "_wbjNPMaZRXg",
        "outputId": "cc91e29d-2290-4bde-b0ca-0efe8da2f6aa"
      },
      "outputs": [
        {
          "name": "stdout",
          "output_type": "stream",
          "text": [
            "The percentage of duplicated data is 4.930538630270534\n"
          ]
        }
      ],
      "source": [
        "percit = (dups_sm/len(sm))*100\n",
        "print('The percentage of duplicated data is' ,percit)"
      ]
    },
    {
      "cell_type": "code",
      "execution_count": null,
      "metadata": {
        "colab": {
          "base_uri": "https://localhost:8080/"
        },
        "id": "xnlgGRRBZa2_",
        "outputId": "e344efbf-6eb9-424f-cdae-c01be2e986c5"
      },
      "outputs": [
        {
          "name": "stdout",
          "output_type": "stream",
          "text": [
            "The percentage of missing data is\n",
            " Theme Id          40.96646\n",
            "published_date     0.00000\n",
            "total_post         0.00000\n",
            "dtype: float64\n"
          ]
        }
      ],
      "source": [
        "perciti = (sm.isnull().sum()/len(sm))*100\n",
        "print('The percentage of missing data is\\n' ,perciti)"
      ]
    },
    {
      "cell_type": "code",
      "execution_count": null,
      "metadata": {
        "colab": {
          "base_uri": "https://localhost:8080/"
        },
        "id": "qKMraZ7axSNr",
        "outputId": "3bbc78fd-321a-485d-c985-df811f51f91e"
      },
      "outputs": [
        {
          "name": "stdout",
          "output_type": "stream",
          "text": [
            "The percentage of duplicated data is 0.0\n"
          ]
        }
      ],
      "source": [
        "percit = (dups_manu/len(manufactur))*100\n",
        "print('The percentage of duplicated data is' ,percit)"
      ]
    },
    {
      "cell_type": "code",
      "execution_count": null,
      "metadata": {
        "colab": {
          "base_uri": "https://localhost:8080/"
        },
        "id": "O2WBq52ZzEEu",
        "outputId": "897f89db-2900-4bee-fa9a-d3ccce6379b8"
      },
      "outputs": [
        {
          "name": "stdout",
          "output_type": "stream",
          "text": [
            "The percentage of missing data is\n",
            " PRODUCT_ID    0.0\n",
            "Vendor        0.0\n",
            "dtype: float64\n"
          ]
        }
      ],
      "source": [
        "perciti = (manufactur.isnull().sum()/len(manufactur))*100\n",
        "print('The percentage of missing data is\\n' ,perciti)"
      ]
    },
    {
      "cell_type": "code",
      "execution_count": null,
      "metadata": {
        "colab": {
          "base_uri": "https://localhost:8080/"
        },
        "id": "fpOkRhovzTjD",
        "outputId": "a83d8d36-0e16-4716-b8a9-7662ec871d59"
      },
      "outputs": [
        {
          "name": "stdout",
          "output_type": "stream",
          "text": [
            "The percentage of duplicated data is 0.0\n"
          ]
        }
      ],
      "source": [
        "percit = (dups_theme/len(theme))*100\n",
        "print('The percentage of duplicated data is' ,percit)"
      ]
    },
    {
      "cell_type": "code",
      "execution_count": null,
      "metadata": {
        "colab": {
          "base_uri": "https://localhost:8080/"
        },
        "id": "6xrQvr6EzKx4",
        "outputId": "ac5f74a6-ecaf-4e03-b59a-4cc07399aed8"
      },
      "outputs": [
        {
          "name": "stdout",
          "output_type": "stream",
          "text": [
            "The percentage of missing data is\n",
            " CLAIM_ID      0.0\n",
            "Claim Name    0.0\n",
            "dtype: float64\n"
          ]
        }
      ],
      "source": [
        "perciti = (theme.isnull().sum()/len(theme))*100\n",
        "print('The percentage of missing data is\\n' ,perciti)"
      ]
    },
    {
      "cell_type": "code",
      "execution_count": null,
      "metadata": {
        "colab": {
          "base_uri": "https://localhost:8080/"
        },
        "id": "JGGiUJ_NzjwN",
        "outputId": "fdc43868-3110-4a74-9623-43cb706f646c"
      },
      "outputs": [
        {
          "name": "stdout",
          "output_type": "stream",
          "text": [
            "The percentage of duplicated data is 0.0\n"
          ]
        }
      ],
      "source": [
        "percit = (dups_themeprod/len(themeprod))*100\n",
        "print('The percentage of duplicated data is' ,percit)"
      ]
    },
    {
      "cell_type": "code",
      "execution_count": null,
      "metadata": {
        "colab": {
          "base_uri": "https://localhost:8080/"
        },
        "id": "Cph96SXbzax4",
        "outputId": "826e8e74-130b-4368-9630-c2e2c3308ffe"
      },
      "outputs": [
        {
          "name": "stdout",
          "output_type": "stream",
          "text": [
            "The percentage of missing data is\n",
            " PRODUCT_ID    0.0\n",
            "CLAIM_ID      0.0\n",
            "dtype: float64\n"
          ]
        }
      ],
      "source": [
        "perciti = (themeprod.isnull().sum()/len(themeprod))*100\n",
        "print('The percentage of missing data is\\n' ,perciti)"
      ]
    },
    {
      "cell_type": "markdown",
      "metadata": {
        "id": "IL2H9A-_txsK"
      },
      "source": [
        "## Shape after clean"
      ]
    },
    {
      "cell_type": "code",
      "execution_count": null,
      "metadata": {
        "colab": {
          "base_uri": "https://localhost:8080/",
          "height": 423
        },
        "id": "-MMj2ictaS9X",
        "outputId": "48782f71-8380-41aa-f05d-60ca4e0d0c40"
      },
      "outputs": [
        {
          "data": {
            "text/html": [
              "\n",
              "  <div id=\"df-713c990c-76ab-4853-a498-bc57240ec328\">\n",
              "    <div class=\"colab-df-container\">\n",
              "      <div>\n",
              "<style scoped>\n",
              "    .dataframe tbody tr th:only-of-type {\n",
              "        vertical-align: middle;\n",
              "    }\n",
              "\n",
              "    .dataframe tbody tr th {\n",
              "        vertical-align: top;\n",
              "    }\n",
              "\n",
              "    .dataframe thead th {\n",
              "        text-align: right;\n",
              "    }\n",
              "</style>\n",
              "<table border=\"1\" class=\"dataframe\">\n",
              "  <thead>\n",
              "    <tr style=\"text-align: right;\">\n",
              "      <th></th>\n",
              "      <th>Theme Id</th>\n",
              "      <th>published_date</th>\n",
              "      <th>total_post</th>\n",
              "    </tr>\n",
              "  </thead>\n",
              "  <tbody>\n",
              "    <tr>\n",
              "      <th>0</th>\n",
              "      <td>148.0</td>\n",
              "      <td>10/1/2015</td>\n",
              "      <td>76</td>\n",
              "    </tr>\n",
              "    <tr>\n",
              "      <th>1</th>\n",
              "      <td>148.0</td>\n",
              "      <td>10/10/2015</td>\n",
              "      <td>31</td>\n",
              "    </tr>\n",
              "    <tr>\n",
              "      <th>2</th>\n",
              "      <td>148.0</td>\n",
              "      <td>10/11/2015</td>\n",
              "      <td>65</td>\n",
              "    </tr>\n",
              "    <tr>\n",
              "      <th>3</th>\n",
              "      <td>148.0</td>\n",
              "      <td>10/12/2015</td>\n",
              "      <td>88</td>\n",
              "    </tr>\n",
              "    <tr>\n",
              "      <th>4</th>\n",
              "      <td>148.0</td>\n",
              "      <td>10/13/2015</td>\n",
              "      <td>85</td>\n",
              "    </tr>\n",
              "    <tr>\n",
              "      <th>...</th>\n",
              "      <td>...</td>\n",
              "      <td>...</td>\n",
              "      <td>...</td>\n",
              "    </tr>\n",
              "    <tr>\n",
              "      <th>533385</th>\n",
              "      <td>876.0</td>\n",
              "      <td>9/5/2019</td>\n",
              "      <td>4658</td>\n",
              "    </tr>\n",
              "    <tr>\n",
              "      <th>533386</th>\n",
              "      <td>876.0</td>\n",
              "      <td>9/6/2019</td>\n",
              "      <td>3731</td>\n",
              "    </tr>\n",
              "    <tr>\n",
              "      <th>533387</th>\n",
              "      <td>876.0</td>\n",
              "      <td>9/7/2019</td>\n",
              "      <td>2336</td>\n",
              "    </tr>\n",
              "    <tr>\n",
              "      <th>533388</th>\n",
              "      <td>876.0</td>\n",
              "      <td>9/8/2019</td>\n",
              "      <td>1374</td>\n",
              "    </tr>\n",
              "    <tr>\n",
              "      <th>533389</th>\n",
              "      <td>876.0</td>\n",
              "      <td>9/9/2019</td>\n",
              "      <td>1442</td>\n",
              "    </tr>\n",
              "  </tbody>\n",
              "</table>\n",
              "<p>314873 rows × 3 columns</p>\n",
              "</div>\n",
              "      <button class=\"colab-df-convert\" onclick=\"convertToInteractive('df-713c990c-76ab-4853-a498-bc57240ec328')\"\n",
              "              title=\"Convert this dataframe to an interactive table.\"\n",
              "              style=\"display:none;\">\n",
              "        \n",
              "  <svg xmlns=\"http://www.w3.org/2000/svg\" height=\"24px\"viewBox=\"0 0 24 24\"\n",
              "       width=\"24px\">\n",
              "    <path d=\"M0 0h24v24H0V0z\" fill=\"none\"/>\n",
              "    <path d=\"M18.56 5.44l.94 2.06.94-2.06 2.06-.94-2.06-.94-.94-2.06-.94 2.06-2.06.94zm-11 1L8.5 8.5l.94-2.06 2.06-.94-2.06-.94L8.5 2.5l-.94 2.06-2.06.94zm10 10l.94 2.06.94-2.06 2.06-.94-2.06-.94-.94-2.06-.94 2.06-2.06.94z\"/><path d=\"M17.41 7.96l-1.37-1.37c-.4-.4-.92-.59-1.43-.59-.52 0-1.04.2-1.43.59L10.3 9.45l-7.72 7.72c-.78.78-.78 2.05 0 2.83L4 21.41c.39.39.9.59 1.41.59.51 0 1.02-.2 1.41-.59l7.78-7.78 2.81-2.81c.8-.78.8-2.07 0-2.86zM5.41 20L4 18.59l7.72-7.72 1.47 1.35L5.41 20z\"/>\n",
              "  </svg>\n",
              "      </button>\n",
              "      \n",
              "  <style>\n",
              "    .colab-df-container {\n",
              "      display:flex;\n",
              "      flex-wrap:wrap;\n",
              "      gap: 12px;\n",
              "    }\n",
              "\n",
              "    .colab-df-convert {\n",
              "      background-color: #E8F0FE;\n",
              "      border: none;\n",
              "      border-radius: 50%;\n",
              "      cursor: pointer;\n",
              "      display: none;\n",
              "      fill: #1967D2;\n",
              "      height: 32px;\n",
              "      padding: 0 0 0 0;\n",
              "      width: 32px;\n",
              "    }\n",
              "\n",
              "    .colab-df-convert:hover {\n",
              "      background-color: #E2EBFA;\n",
              "      box-shadow: 0px 1px 2px rgba(60, 64, 67, 0.3), 0px 1px 3px 1px rgba(60, 64, 67, 0.15);\n",
              "      fill: #174EA6;\n",
              "    }\n",
              "\n",
              "    [theme=dark] .colab-df-convert {\n",
              "      background-color: #3B4455;\n",
              "      fill: #D2E3FC;\n",
              "    }\n",
              "\n",
              "    [theme=dark] .colab-df-convert:hover {\n",
              "      background-color: #434B5C;\n",
              "      box-shadow: 0px 1px 3px 1px rgba(0, 0, 0, 0.15);\n",
              "      filter: drop-shadow(0px 1px 2px rgba(0, 0, 0, 0.3));\n",
              "      fill: #FFFFFF;\n",
              "    }\n",
              "  </style>\n",
              "\n",
              "      <script>\n",
              "        const buttonEl =\n",
              "          document.querySelector('#df-713c990c-76ab-4853-a498-bc57240ec328 button.colab-df-convert');\n",
              "        buttonEl.style.display =\n",
              "          google.colab.kernel.accessAllowed ? 'block' : 'none';\n",
              "\n",
              "        async function convertToInteractive(key) {\n",
              "          const element = document.querySelector('#df-713c990c-76ab-4853-a498-bc57240ec328');\n",
              "          const dataTable =\n",
              "            await google.colab.kernel.invokeFunction('convertToInteractive',\n",
              "                                                     [key], {});\n",
              "          if (!dataTable) return;\n",
              "\n",
              "          const docLinkHtml = 'Like what you see? Visit the ' +\n",
              "            '<a target=\"_blank\" href=https://colab.research.google.com/notebooks/data_table.ipynb>data table notebook</a>'\n",
              "            + ' to learn more about interactive tables.';\n",
              "          element.innerHTML = '';\n",
              "          dataTable['output_type'] = 'display_data';\n",
              "          await google.colab.output.renderOutput(dataTable, element);\n",
              "          const docLink = document.createElement('div');\n",
              "          docLink.innerHTML = docLinkHtml;\n",
              "          element.appendChild(docLink);\n",
              "        }\n",
              "      </script>\n",
              "    </div>\n",
              "  </div>\n",
              "  "
            ],
            "text/plain": [
              "        Theme Id published_date  total_post\n",
              "0          148.0      10/1/2015          76\n",
              "1          148.0     10/10/2015          31\n",
              "2          148.0     10/11/2015          65\n",
              "3          148.0     10/12/2015          88\n",
              "4          148.0     10/13/2015          85\n",
              "...          ...            ...         ...\n",
              "533385     876.0       9/5/2019        4658\n",
              "533386     876.0       9/6/2019        3731\n",
              "533387     876.0       9/7/2019        2336\n",
              "533388     876.0       9/8/2019        1374\n",
              "533389     876.0       9/9/2019        1442\n",
              "\n",
              "[314873 rows x 3 columns]"
            ]
          },
          "execution_count": 39,
          "metadata": {},
          "output_type": "execute_result"
        }
      ],
      "source": [
        "clean = sm.drop_duplicates(inplace = True ,keep = False)\n",
        "drop = sm.dropna(inplace=True)\n",
        "sm"
      ]
    },
    {
      "cell_type": "code",
      "execution_count": null,
      "metadata": {
        "colab": {
          "base_uri": "https://localhost:8080/",
          "height": 423
        },
        "id": "5nojxnngbxYl",
        "outputId": "c80c42e8-1564-474e-9436-8c22ba9dffd4"
      },
      "outputs": [
        {
          "data": {
            "text/html": [
              "\n",
              "  <div id=\"df-7e4dfa9c-fbf7-4a19-9060-aec392b18621\">\n",
              "    <div class=\"colab-df-container\">\n",
              "      <div>\n",
              "<style scoped>\n",
              "    .dataframe tbody tr th:only-of-type {\n",
              "        vertical-align: middle;\n",
              "    }\n",
              "\n",
              "    .dataframe tbody tr th {\n",
              "        vertical-align: top;\n",
              "    }\n",
              "\n",
              "    .dataframe thead th {\n",
              "        text-align: right;\n",
              "    }\n",
              "</style>\n",
              "<table border=\"1\" class=\"dataframe\">\n",
              "  <thead>\n",
              "    <tr style=\"text-align: right;\">\n",
              "      <th></th>\n",
              "      <th>date</th>\n",
              "      <th>platform</th>\n",
              "      <th>searchVolume</th>\n",
              "      <th>Claim_ID</th>\n",
              "      <th>week_number</th>\n",
              "      <th>year_new</th>\n",
              "    </tr>\n",
              "  </thead>\n",
              "  <tbody>\n",
              "    <tr>\n",
              "      <th>0</th>\n",
              "      <td>05-01-2014</td>\n",
              "      <td>google</td>\n",
              "      <td>349</td>\n",
              "      <td>916</td>\n",
              "      <td>1</td>\n",
              "      <td>2014</td>\n",
              "    </tr>\n",
              "    <tr>\n",
              "      <th>1</th>\n",
              "      <td>06-01-2014</td>\n",
              "      <td>google</td>\n",
              "      <td>349</td>\n",
              "      <td>916</td>\n",
              "      <td>2</td>\n",
              "      <td>2014</td>\n",
              "    </tr>\n",
              "    <tr>\n",
              "      <th>2</th>\n",
              "      <td>07-01-2014</td>\n",
              "      <td>google</td>\n",
              "      <td>697</td>\n",
              "      <td>916</td>\n",
              "      <td>2</td>\n",
              "      <td>2014</td>\n",
              "    </tr>\n",
              "    <tr>\n",
              "      <th>3</th>\n",
              "      <td>10-01-2014</td>\n",
              "      <td>google</td>\n",
              "      <td>349</td>\n",
              "      <td>916</td>\n",
              "      <td>2</td>\n",
              "      <td>2014</td>\n",
              "    </tr>\n",
              "    <tr>\n",
              "      <th>4</th>\n",
              "      <td>20-01-2014</td>\n",
              "      <td>google</td>\n",
              "      <td>697</td>\n",
              "      <td>916</td>\n",
              "      <td>4</td>\n",
              "      <td>2014</td>\n",
              "    </tr>\n",
              "    <tr>\n",
              "      <th>...</th>\n",
              "      <td>...</td>\n",
              "      <td>...</td>\n",
              "      <td>...</td>\n",
              "      <td>...</td>\n",
              "      <td>...</td>\n",
              "      <td>...</td>\n",
              "    </tr>\n",
              "    <tr>\n",
              "      <th>181560</th>\n",
              "      <td>05-09-2019</td>\n",
              "      <td>walmart</td>\n",
              "      <td>125</td>\n",
              "      <td>980</td>\n",
              "      <td>36</td>\n",
              "      <td>2019</td>\n",
              "    </tr>\n",
              "    <tr>\n",
              "      <th>181561</th>\n",
              "      <td>22-09-2019</td>\n",
              "      <td>walmart</td>\n",
              "      <td>84</td>\n",
              "      <td>980</td>\n",
              "      <td>38</td>\n",
              "      <td>2019</td>\n",
              "    </tr>\n",
              "    <tr>\n",
              "      <th>181562</th>\n",
              "      <td>26-09-2019</td>\n",
              "      <td>walmart</td>\n",
              "      <td>42</td>\n",
              "      <td>980</td>\n",
              "      <td>39</td>\n",
              "      <td>2019</td>\n",
              "    </tr>\n",
              "    <tr>\n",
              "      <th>181563</th>\n",
              "      <td>15-07-2019</td>\n",
              "      <td>walmart</td>\n",
              "      <td>42</td>\n",
              "      <td>622</td>\n",
              "      <td>29</td>\n",
              "      <td>2019</td>\n",
              "    </tr>\n",
              "    <tr>\n",
              "      <th>181564</th>\n",
              "      <td>02-09-2019</td>\n",
              "      <td>walmart</td>\n",
              "      <td>42</td>\n",
              "      <td>689</td>\n",
              "      <td>36</td>\n",
              "      <td>2019</td>\n",
              "    </tr>\n",
              "  </tbody>\n",
              "</table>\n",
              "<p>181485 rows × 6 columns</p>\n",
              "</div>\n",
              "      <button class=\"colab-df-convert\" onclick=\"convertToInteractive('df-7e4dfa9c-fbf7-4a19-9060-aec392b18621')\"\n",
              "              title=\"Convert this dataframe to an interactive table.\"\n",
              "              style=\"display:none;\">\n",
              "        \n",
              "  <svg xmlns=\"http://www.w3.org/2000/svg\" height=\"24px\"viewBox=\"0 0 24 24\"\n",
              "       width=\"24px\">\n",
              "    <path d=\"M0 0h24v24H0V0z\" fill=\"none\"/>\n",
              "    <path d=\"M18.56 5.44l.94 2.06.94-2.06 2.06-.94-2.06-.94-.94-2.06-.94 2.06-2.06.94zm-11 1L8.5 8.5l.94-2.06 2.06-.94-2.06-.94L8.5 2.5l-.94 2.06-2.06.94zm10 10l.94 2.06.94-2.06 2.06-.94-2.06-.94-.94-2.06-.94 2.06-2.06.94z\"/><path d=\"M17.41 7.96l-1.37-1.37c-.4-.4-.92-.59-1.43-.59-.52 0-1.04.2-1.43.59L10.3 9.45l-7.72 7.72c-.78.78-.78 2.05 0 2.83L4 21.41c.39.39.9.59 1.41.59.51 0 1.02-.2 1.41-.59l7.78-7.78 2.81-2.81c.8-.78.8-2.07 0-2.86zM5.41 20L4 18.59l7.72-7.72 1.47 1.35L5.41 20z\"/>\n",
              "  </svg>\n",
              "      </button>\n",
              "      \n",
              "  <style>\n",
              "    .colab-df-container {\n",
              "      display:flex;\n",
              "      flex-wrap:wrap;\n",
              "      gap: 12px;\n",
              "    }\n",
              "\n",
              "    .colab-df-convert {\n",
              "      background-color: #E8F0FE;\n",
              "      border: none;\n",
              "      border-radius: 50%;\n",
              "      cursor: pointer;\n",
              "      display: none;\n",
              "      fill: #1967D2;\n",
              "      height: 32px;\n",
              "      padding: 0 0 0 0;\n",
              "      width: 32px;\n",
              "    }\n",
              "\n",
              "    .colab-df-convert:hover {\n",
              "      background-color: #E2EBFA;\n",
              "      box-shadow: 0px 1px 2px rgba(60, 64, 67, 0.3), 0px 1px 3px 1px rgba(60, 64, 67, 0.15);\n",
              "      fill: #174EA6;\n",
              "    }\n",
              "\n",
              "    [theme=dark] .colab-df-convert {\n",
              "      background-color: #3B4455;\n",
              "      fill: #D2E3FC;\n",
              "    }\n",
              "\n",
              "    [theme=dark] .colab-df-convert:hover {\n",
              "      background-color: #434B5C;\n",
              "      box-shadow: 0px 1px 3px 1px rgba(0, 0, 0, 0.15);\n",
              "      filter: drop-shadow(0px 1px 2px rgba(0, 0, 0, 0.3));\n",
              "      fill: #FFFFFF;\n",
              "    }\n",
              "  </style>\n",
              "\n",
              "      <script>\n",
              "        const buttonEl =\n",
              "          document.querySelector('#df-7e4dfa9c-fbf7-4a19-9060-aec392b18621 button.colab-df-convert');\n",
              "        buttonEl.style.display =\n",
              "          google.colab.kernel.accessAllowed ? 'block' : 'none';\n",
              "\n",
              "        async function convertToInteractive(key) {\n",
              "          const element = document.querySelector('#df-7e4dfa9c-fbf7-4a19-9060-aec392b18621');\n",
              "          const dataTable =\n",
              "            await google.colab.kernel.invokeFunction('convertToInteractive',\n",
              "                                                     [key], {});\n",
              "          if (!dataTable) return;\n",
              "\n",
              "          const docLinkHtml = 'Like what you see? Visit the ' +\n",
              "            '<a target=\"_blank\" href=https://colab.research.google.com/notebooks/data_table.ipynb>data table notebook</a>'\n",
              "            + ' to learn more about interactive tables.';\n",
              "          element.innerHTML = '';\n",
              "          dataTable['output_type'] = 'display_data';\n",
              "          await google.colab.output.renderOutput(dataTable, element);\n",
              "          const docLink = document.createElement('div');\n",
              "          docLink.innerHTML = docLinkHtml;\n",
              "          element.appendChild(docLink);\n",
              "        }\n",
              "      </script>\n",
              "    </div>\n",
              "  </div>\n",
              "  "
            ],
            "text/plain": [
              "              date platform  searchVolume  Claim_ID  week_number  year_new\n",
              "0       05-01-2014   google           349       916            1      2014\n",
              "1       06-01-2014   google           349       916            2      2014\n",
              "2       07-01-2014   google           697       916            2      2014\n",
              "3       10-01-2014   google           349       916            2      2014\n",
              "4       20-01-2014   google           697       916            4      2014\n",
              "...            ...      ...           ...       ...          ...       ...\n",
              "181560  05-09-2019  walmart           125       980           36      2019\n",
              "181561  22-09-2019  walmart            84       980           38      2019\n",
              "181562  26-09-2019  walmart            42       980           39      2019\n",
              "181563  15-07-2019  walmart            42       622           29      2019\n",
              "181564  02-09-2019  walmart            42       689           36      2019\n",
              "\n",
              "[181485 rows x 6 columns]"
            ]
          },
          "execution_count": 40,
          "metadata": {},
          "output_type": "execute_result"
        }
      ],
      "source": [
        "clean = search.drop_duplicates(inplace = True ,keep = False)\n",
        "search"
      ]
    },
    {
      "cell_type": "code",
      "execution_count": null,
      "metadata": {
        "colab": {
          "base_uri": "https://localhost:8080/"
        },
        "id": "NTjY9UwOl-Og",
        "outputId": "c714d13f-1561-47e9-f48a-27cdff1c306e"
      },
      "outputs": [
        {
          "data": {
            "text/plain": [
              "(4526182, 5)"
            ]
          },
          "execution_count": 41,
          "metadata": {},
          "output_type": "execute_result"
        }
      ],
      "source": [
        "sales.shape"
      ]
    },
    {
      "cell_type": "code",
      "execution_count": null,
      "metadata": {
        "colab": {
          "base_uri": "https://localhost:8080/"
        },
        "id": "6-4CtJREmAol",
        "outputId": "c6f13dbd-46bb-4f96-f169-2e7a62a751a5"
      },
      "outputs": [
        {
          "data": {
            "text/plain": [
              "(181485, 6)"
            ]
          },
          "execution_count": 42,
          "metadata": {},
          "output_type": "execute_result"
        }
      ],
      "source": [
        "search.shape"
      ]
    },
    {
      "cell_type": "code",
      "execution_count": null,
      "metadata": {
        "colab": {
          "base_uri": "https://localhost:8080/",
          "height": 423
        },
        "id": "08UZu96p5-Nf",
        "outputId": "88d572e0-c497-4921-936d-7d0f1526ea6e"
      },
      "outputs": [
        {
          "data": {
            "text/html": [
              "\n",
              "  <div id=\"df-8dddcd2a-5e22-4715-85b8-87e8e3eeb7a3\">\n",
              "    <div class=\"colab-df-container\">\n",
              "      <div>\n",
              "<style scoped>\n",
              "    .dataframe tbody tr th:only-of-type {\n",
              "        vertical-align: middle;\n",
              "    }\n",
              "\n",
              "    .dataframe tbody tr th {\n",
              "        vertical-align: top;\n",
              "    }\n",
              "\n",
              "    .dataframe thead th {\n",
              "        text-align: right;\n",
              "    }\n",
              "</style>\n",
              "<table border=\"1\" class=\"dataframe\">\n",
              "  <thead>\n",
              "    <tr style=\"text-align: right;\">\n",
              "      <th></th>\n",
              "      <th>date</th>\n",
              "      <th>platform</th>\n",
              "      <th>searchVolume</th>\n",
              "      <th>Theme_ID</th>\n",
              "      <th>week_number</th>\n",
              "      <th>year_new</th>\n",
              "    </tr>\n",
              "  </thead>\n",
              "  <tbody>\n",
              "    <tr>\n",
              "      <th>0</th>\n",
              "      <td>05-01-2014</td>\n",
              "      <td>google</td>\n",
              "      <td>349</td>\n",
              "      <td>916</td>\n",
              "      <td>1</td>\n",
              "      <td>2014</td>\n",
              "    </tr>\n",
              "    <tr>\n",
              "      <th>1</th>\n",
              "      <td>06-01-2014</td>\n",
              "      <td>google</td>\n",
              "      <td>349</td>\n",
              "      <td>916</td>\n",
              "      <td>2</td>\n",
              "      <td>2014</td>\n",
              "    </tr>\n",
              "    <tr>\n",
              "      <th>2</th>\n",
              "      <td>07-01-2014</td>\n",
              "      <td>google</td>\n",
              "      <td>697</td>\n",
              "      <td>916</td>\n",
              "      <td>2</td>\n",
              "      <td>2014</td>\n",
              "    </tr>\n",
              "    <tr>\n",
              "      <th>3</th>\n",
              "      <td>10-01-2014</td>\n",
              "      <td>google</td>\n",
              "      <td>349</td>\n",
              "      <td>916</td>\n",
              "      <td>2</td>\n",
              "      <td>2014</td>\n",
              "    </tr>\n",
              "    <tr>\n",
              "      <th>4</th>\n",
              "      <td>20-01-2014</td>\n",
              "      <td>google</td>\n",
              "      <td>697</td>\n",
              "      <td>916</td>\n",
              "      <td>4</td>\n",
              "      <td>2014</td>\n",
              "    </tr>\n",
              "    <tr>\n",
              "      <th>...</th>\n",
              "      <td>...</td>\n",
              "      <td>...</td>\n",
              "      <td>...</td>\n",
              "      <td>...</td>\n",
              "      <td>...</td>\n",
              "      <td>...</td>\n",
              "    </tr>\n",
              "    <tr>\n",
              "      <th>181560</th>\n",
              "      <td>05-09-2019</td>\n",
              "      <td>walmart</td>\n",
              "      <td>125</td>\n",
              "      <td>980</td>\n",
              "      <td>36</td>\n",
              "      <td>2019</td>\n",
              "    </tr>\n",
              "    <tr>\n",
              "      <th>181561</th>\n",
              "      <td>22-09-2019</td>\n",
              "      <td>walmart</td>\n",
              "      <td>84</td>\n",
              "      <td>980</td>\n",
              "      <td>38</td>\n",
              "      <td>2019</td>\n",
              "    </tr>\n",
              "    <tr>\n",
              "      <th>181562</th>\n",
              "      <td>26-09-2019</td>\n",
              "      <td>walmart</td>\n",
              "      <td>42</td>\n",
              "      <td>980</td>\n",
              "      <td>39</td>\n",
              "      <td>2019</td>\n",
              "    </tr>\n",
              "    <tr>\n",
              "      <th>181563</th>\n",
              "      <td>15-07-2019</td>\n",
              "      <td>walmart</td>\n",
              "      <td>42</td>\n",
              "      <td>622</td>\n",
              "      <td>29</td>\n",
              "      <td>2019</td>\n",
              "    </tr>\n",
              "    <tr>\n",
              "      <th>181564</th>\n",
              "      <td>02-09-2019</td>\n",
              "      <td>walmart</td>\n",
              "      <td>42</td>\n",
              "      <td>689</td>\n",
              "      <td>36</td>\n",
              "      <td>2019</td>\n",
              "    </tr>\n",
              "  </tbody>\n",
              "</table>\n",
              "<p>181485 rows × 6 columns</p>\n",
              "</div>\n",
              "      <button class=\"colab-df-convert\" onclick=\"convertToInteractive('df-8dddcd2a-5e22-4715-85b8-87e8e3eeb7a3')\"\n",
              "              title=\"Convert this dataframe to an interactive table.\"\n",
              "              style=\"display:none;\">\n",
              "        \n",
              "  <svg xmlns=\"http://www.w3.org/2000/svg\" height=\"24px\"viewBox=\"0 0 24 24\"\n",
              "       width=\"24px\">\n",
              "    <path d=\"M0 0h24v24H0V0z\" fill=\"none\"/>\n",
              "    <path d=\"M18.56 5.44l.94 2.06.94-2.06 2.06-.94-2.06-.94-.94-2.06-.94 2.06-2.06.94zm-11 1L8.5 8.5l.94-2.06 2.06-.94-2.06-.94L8.5 2.5l-.94 2.06-2.06.94zm10 10l.94 2.06.94-2.06 2.06-.94-2.06-.94-.94-2.06-.94 2.06-2.06.94z\"/><path d=\"M17.41 7.96l-1.37-1.37c-.4-.4-.92-.59-1.43-.59-.52 0-1.04.2-1.43.59L10.3 9.45l-7.72 7.72c-.78.78-.78 2.05 0 2.83L4 21.41c.39.39.9.59 1.41.59.51 0 1.02-.2 1.41-.59l7.78-7.78 2.81-2.81c.8-.78.8-2.07 0-2.86zM5.41 20L4 18.59l7.72-7.72 1.47 1.35L5.41 20z\"/>\n",
              "  </svg>\n",
              "      </button>\n",
              "      \n",
              "  <style>\n",
              "    .colab-df-container {\n",
              "      display:flex;\n",
              "      flex-wrap:wrap;\n",
              "      gap: 12px;\n",
              "    }\n",
              "\n",
              "    .colab-df-convert {\n",
              "      background-color: #E8F0FE;\n",
              "      border: none;\n",
              "      border-radius: 50%;\n",
              "      cursor: pointer;\n",
              "      display: none;\n",
              "      fill: #1967D2;\n",
              "      height: 32px;\n",
              "      padding: 0 0 0 0;\n",
              "      width: 32px;\n",
              "    }\n",
              "\n",
              "    .colab-df-convert:hover {\n",
              "      background-color: #E2EBFA;\n",
              "      box-shadow: 0px 1px 2px rgba(60, 64, 67, 0.3), 0px 1px 3px 1px rgba(60, 64, 67, 0.15);\n",
              "      fill: #174EA6;\n",
              "    }\n",
              "\n",
              "    [theme=dark] .colab-df-convert {\n",
              "      background-color: #3B4455;\n",
              "      fill: #D2E3FC;\n",
              "    }\n",
              "\n",
              "    [theme=dark] .colab-df-convert:hover {\n",
              "      background-color: #434B5C;\n",
              "      box-shadow: 0px 1px 3px 1px rgba(0, 0, 0, 0.15);\n",
              "      filter: drop-shadow(0px 1px 2px rgba(0, 0, 0, 0.3));\n",
              "      fill: #FFFFFF;\n",
              "    }\n",
              "  </style>\n",
              "\n",
              "      <script>\n",
              "        const buttonEl =\n",
              "          document.querySelector('#df-8dddcd2a-5e22-4715-85b8-87e8e3eeb7a3 button.colab-df-convert');\n",
              "        buttonEl.style.display =\n",
              "          google.colab.kernel.accessAllowed ? 'block' : 'none';\n",
              "\n",
              "        async function convertToInteractive(key) {\n",
              "          const element = document.querySelector('#df-8dddcd2a-5e22-4715-85b8-87e8e3eeb7a3');\n",
              "          const dataTable =\n",
              "            await google.colab.kernel.invokeFunction('convertToInteractive',\n",
              "                                                     [key], {});\n",
              "          if (!dataTable) return;\n",
              "\n",
              "          const docLinkHtml = 'Like what you see? Visit the ' +\n",
              "            '<a target=\"_blank\" href=https://colab.research.google.com/notebooks/data_table.ipynb>data table notebook</a>'\n",
              "            + ' to learn more about interactive tables.';\n",
              "          element.innerHTML = '';\n",
              "          dataTable['output_type'] = 'display_data';\n",
              "          await google.colab.output.renderOutput(dataTable, element);\n",
              "          const docLink = document.createElement('div');\n",
              "          docLink.innerHTML = docLinkHtml;\n",
              "          element.appendChild(docLink);\n",
              "        }\n",
              "      </script>\n",
              "    </div>\n",
              "  </div>\n",
              "  "
            ],
            "text/plain": [
              "              date platform  searchVolume  Theme_ID  week_number  year_new\n",
              "0       05-01-2014   google           349       916            1      2014\n",
              "1       06-01-2014   google           349       916            2      2014\n",
              "2       07-01-2014   google           697       916            2      2014\n",
              "3       10-01-2014   google           349       916            2      2014\n",
              "4       20-01-2014   google           697       916            4      2014\n",
              "...            ...      ...           ...       ...          ...       ...\n",
              "181560  05-09-2019  walmart           125       980           36      2019\n",
              "181561  22-09-2019  walmart            84       980           38      2019\n",
              "181562  26-09-2019  walmart            42       980           39      2019\n",
              "181563  15-07-2019  walmart            42       622           29      2019\n",
              "181564  02-09-2019  walmart            42       689           36      2019\n",
              "\n",
              "[181485 rows x 6 columns]"
            ]
          },
          "execution_count": 43,
          "metadata": {},
          "output_type": "execute_result"
        }
      ],
      "source": [
        "search.rename(columns={\n",
        "    'Claim_ID':'Theme_ID'\n",
        "},inplace=True)\n",
        "search"
      ]
    },
    {
      "cell_type": "code",
      "execution_count": null,
      "metadata": {
        "id": "cTYkS6TCI5Tn"
      },
      "outputs": [],
      "source": [
        "sm.rename(columns={\n",
        "    'Theme Id':'Theme_ID'\n",
        "},inplace=True)"
      ]
    },
    {
      "cell_type": "code",
      "execution_count": null,
      "metadata": {
        "id": "ruP5Xlj-Izu8"
      },
      "outputs": [],
      "source": [
        "theme.rename(columns={\n",
        "    'CLAIM_ID':'Theme_ID'\n",
        "},inplace=True)"
      ]
    },
    {
      "cell_type": "code",
      "execution_count": null,
      "metadata": {
        "id": "-bqMUdMxIxpz"
      },
      "outputs": [],
      "source": [
        "themeprod.rename(columns={\n",
        "    'CLAIM_ID':'Theme_ID'\n",
        "},inplace=True)"
      ]
    },
    {
      "cell_type": "code",
      "execution_count": null,
      "metadata": {
        "id": "Ej5qMjUd1b7W"
      },
      "outputs": [],
      "source": [
        "sales.rename(columns={\n",
        "    'product_id':'PRODUCT_ID'\n",
        "},inplace=True)"
      ]
    },
    {
      "cell_type": "markdown",
      "metadata": {
        "id": "7aQYZeT0ccO3"
      },
      "source": [
        "## Task 2"
      ]
    },
    {
      "cell_type": "code",
      "execution_count": null,
      "metadata": {
        "colab": {
          "base_uri": "https://localhost:8080/"
        },
        "id": "L-G8yGVyuYrv",
        "outputId": "9385e4b8-75e1-427a-cc9c-7da8fcb7c4f4"
      },
      "outputs": [
        {
          "name": "stdout",
          "output_type": "stream",
          "text": [
            "The number of themes present is 208\n"
          ]
        }
      ],
      "source": [
        "# Task 2.1: Number of themes present\n",
        "num_themesis = len(theme)\n",
        "print('The number of themes present is',num_themesis)"
      ]
    },
    {
      "cell_type": "code",
      "execution_count": null,
      "metadata": {
        "colab": {
          "base_uri": "https://localhost:8080/"
        },
        "id": "sgevTKooALM6",
        "outputId": "3f686eef-0a73-45c5-de75-b26d1152b02e"
      },
      "outputs": [
        {
          "name": "stdout",
          "output_type": "stream",
          "text": [
            "The number of themes mentioned in social media is 193\n",
            "Themes that do not get publicity:\n",
            "No Claim\n",
            "cocoa\n",
            "stroganoff\n",
            "buckwheat\n",
            "tutti frutti\n",
            "brown ale\n",
            "whitebait\n",
            "french\n",
            "cookie\n",
            "pollock\n",
            "pizza\n",
            "american southwest style\n",
            "tilapia\n",
            "apple cinnamon\n",
            "dha\n"
          ]
        }
      ],
      "source": [
        "# Task 2.2(a): Number of themes mentioned in social media\n",
        "num_themes_social_media = len(sm['Theme_ID'].unique())\n",
        "print('The number of themes mentioned in social media is',num_themes_social_media)\n",
        "#Task 2.2 (b): how may themes have no publicity\n",
        "publicized_themes = sm['Theme_ID'].unique()\n",
        "all_themes = theme['Theme_ID'].unique()\n",
        "not_publicized_themes = [theme_id for theme_id in all_themes if theme_id not in publicized_themes]\n",
        "\n",
        "print(\"Themes that do not get publicity:\")\n",
        "for theme_id in not_publicized_themes:\n",
        "    theme_name = theme[theme['Theme_ID'] == theme_id]['Claim Name'].values[0]\n",
        "    print(theme_name)"
      ]
    },
    {
      "cell_type": "code",
      "execution_count": null,
      "metadata": {
        "colab": {
          "base_uri": "https://localhost:8080/"
        },
        "id": "o-W6iYPLANuN",
        "outputId": "717bf2e7-d814-4c79-f82b-252afe959ed8"
      },
      "outputs": [
        {
          "name": "stdout",
          "output_type": "stream",
          "text": [
            "The number of themes searched in google is 159\n"
          ]
        }
      ],
      "source": [
        "# Task 2.3: Number of themes searched in google\n",
        "google_data = search[search['platform'] == 'google']\n",
        "num_themes_google = google_data['Theme_ID'].nunique()\n",
        "print('The number of themes searched in google is',num_themes_google)"
      ]
    },
    {
      "cell_type": "code",
      "execution_count": null,
      "metadata": {
        "colab": {
          "base_uri": "https://localhost:8080/"
        },
        "id": "7Nyap8QdAQDh",
        "outputId": "1f00d63b-fcd3-42d4-8913-bb8e3f7f486a"
      },
      "outputs": [
        {
          "name": "stdout",
          "output_type": "stream",
          "text": [
            "The number of themes contributing to sales 49\n"
          ]
        }
      ],
      "source": [
        "# Task 2.4: Number of themes contributing to sales\n",
        "#merging these 3 datasets allows us to easily filter out the number of themes in the sales dataset\n",
        "df = pd.merge(themeprod, sales, on='PRODUCT_ID', how='inner')\n",
        "df2 = pd.merge(df,theme, on='Theme_ID',how='inner')\n",
        "num_themes_sales = len(df['Theme_ID'].unique())\n",
        "print('The number of themes contributing to sales',num_themes_sales)"
      ]
    },
    {
      "cell_type": "code",
      "execution_count": null,
      "metadata": {
        "colab": {
          "base_uri": "https://localhost:8080/"
        },
        "id": "bEnWaRpJAW8C",
        "outputId": "08b029e3-0696-4220-ea2e-f10030511201"
      },
      "outputs": [
        {
          "name": "stdout",
          "output_type": "stream",
          "text": [
            "The number of themes Manufacturer A has business in is 34\n"
          ]
        }
      ],
      "source": [
        "# Task 2.5: Number of themes Manufacturer A has business in\n",
        "d1 = pd.merge(manufactur,themeprod, on='PRODUCT_ID', how='inner')\n",
        "num_themes_manufacturer_A = len(d1[d1['Vendor'] == 'A']['Theme_ID'].unique())\n",
        "print('The number of themes Manufacturer A has business in is',num_themes_manufacturer_A)"
      ]
    },
    {
      "cell_type": "code",
      "execution_count": null,
      "metadata": {
        "colab": {
          "base_uri": "https://localhost:8080/",
          "height": 589
        },
        "id": "3JVveZ8EAcHg",
        "outputId": "709043ab-5caf-4ff7-e2d3-dc04f9372d5e"
      },
      "outputs": [
        {
          "data": {
            "image/png": "[encoded data removed]",
            "text/plain": [
              "<Figure size 640x480 with 1 Axes>"
            ]
          },
          "metadata": {},
          "output_type": "display_data"
        }
      ],
      "source": [
        "# Create a bar plot to show the results of tasks 2.1 to 2.5\n",
        "data_sources = ['Themes', 'Social Media','Sales','Google Search', 'Sales (Manufacturer A)']\n",
        "num_themes = [num_themesis, num_themes_social_media, num_themes_google, num_themes_sales, num_themes_manufacturer_A]\n",
        "#data_sources is a summarized version of the tasks output\n",
        "#num_themes is the variables that conatin the answers\n",
        "plt.bar(data_sources, num_themes)\n",
        "plt.xlabel('Data Source')\n",
        "plt.ylabel('Number of Themes')\n",
        "plt.title('Number of Themes Across Data Sources')\n",
        "plt.xticks(rotation=50)\n",
        "plt.show()"
      ]
    },
    {
      "cell_type": "markdown",
      "metadata": {
        "id": "jmkBUZwI4Q27"
      },
      "source": [
        "## Task 3"
      ]
    },
    {
      "cell_type": "markdown",
      "metadata": {
        "id": "8JxB9Cv769Up"
      },
      "source": [
        "For task 3 i feel that it is best to leave out theme_id 0 also known as no claim as there is no definitive theme anme for no claim thus making it redundant in the analysis of this task"
      ]
    },
    {
      "cell_type": "code",
      "execution_count": null,
      "metadata": {
        "colab": {
          "base_uri": "https://localhost:8080/"
        },
        "id": "pysJ5_wd4SLP",
        "outputId": "01779e04-f06c-41cc-81b4-5301bb1a8648"
      },
      "outputs": [
        {
          "name": "stdout",
          "output_type": "stream",
          "text": [
            "The top 5 themes are: \n",
            " Claim Name\n",
            "low carb                      2627421936\n",
            "no additives/preservatives    1559993572\n",
            "stroganoff                    1391218733\n",
            "apple cinnamon                 805116403\n",
            "soy foods                      449104186\n",
            "Name: sales_units_value, dtype: int64\n"
          ]
        }
      ],
      "source": [
        "# Task 3.1: Top 5 themes preferred by consumers as per sales\n",
        "top_5_themes_sales = df2[df2['Theme_ID'] != 0].groupby('Claim Name')['sales_units_value'].sum().nlargest(5)\n",
        "print('The top 5 themes are: \\n', top_5_themes_sales)\n"
      ]
    },
    {
      "cell_type": "code",
      "execution_count": null,
      "metadata": {
        "colab": {
          "base_uri": "https://localhost:8080/"
        },
        "id": "iPkvYCfU450H",
        "outputId": "1a482f4f-0308-4342-d9b8-aea0aa099c49"
      },
      "outputs": [
        {
          "name": "stdout",
          "output_type": "stream",
          "text": [
            "The top 5 themes preferred by customers are: \n",
            " Claim Name\n",
            "health (passive)    5329592\n",
            "boar                4609405\n",
            "rabbit              2821690\n",
            "probiotic           2462718\n",
            "pumpkin             2417031\n",
            "Name: total_post, dtype: int64\n"
          ]
        }
      ],
      "source": [
        "# Task 3.2: Top 5 themes preferred by consumers as per social media data\n",
        "#by merging sm and theme dataset we can easily accomplish the task\n",
        "df3 = pd.merge(theme,sm,on='Theme_ID',how='inner')\n",
        "top_5_themes_social_media = df3[df3['Theme_ID'] != 0].groupby('Claim Name')['total_post'].sum().nlargest(5)\n",
        "print('The top 5 themes preferred by customers are: \\n',top_5_themes_social_media)"
      ]
    },
    {
      "cell_type": "code",
      "execution_count": null,
      "metadata": {
        "colab": {
          "base_uri": "https://localhost:8080/"
        },
        "id": "5MgzWfpZ52Op",
        "outputId": "3f21f2fa-e02e-4768-c2ed-e4854300487d"
      },
      "outputs": [
        {
          "name": "stdout",
          "output_type": "stream",
          "text": [
            "The top 5 themes preferred by customer search data is:\n",
            " Claim Name\n",
            "ethical - environment    113482508\n",
            "shrimp                    77498586\n",
            "sugar free                74104963\n",
            "honey                     73600640\n",
            "health (passive)          54400741\n",
            "Name: searchVolume, dtype: int64\n"
          ]
        }
      ],
      "source": [
        "# Task 3.3: Top 5 themes preferred by consumers as per google search data\n",
        "#merging search and theme set will make the easier to filter out google in the merged dataset\n",
        "#Allowing us to get the Claim Names for the themes and doing the task\n",
        "df4 = pd.merge(theme,search,on='Theme_ID',how='inner')\n",
        "google_dataa = df4[df4['platform'] == 'google']\n",
        "top_5_themes_google = google_dataa[google_dataa['Theme_ID'] != 0].groupby('Claim Name')['searchVolume'].sum().nlargest(5)\n",
        "print('The top 5 themes preferred by customer search data is:\\n',top_5_themes_google)"
      ]
    },
    {
      "cell_type": "code",
      "execution_count": null,
      "metadata": {
        "colab": {
          "base_uri": "https://localhost:8080/",
          "height": 625
        },
        "id": "w20M4EvN63Pk",
        "outputId": "104b2369-15f1-49a3-c3ea-518e36160cf9"
      },
      "outputs": [
        {
          "name": "stderr",
          "output_type": "stream",
          "text": [
            "<ipython-input-57-6d4741b0e12f>:9: UserWarning: FixedFormatter should only be used together with FixedLocator\n",
            "  ax.set_xticklabels(top_5_themes_google.index, rotation=10)\n"
          ]
        },
        {
          "data": {
            "image/png": "[encoded data removed]",
            "text/plain": [
              "<Figure size 800x600 with 1 Axes>"
            ]
          },
          "metadata": {},
          "output_type": "display_data"
        }
      ],
      "source": [
        "# Create a single plot\n",
        "fig, ax = plt.subplots(figsize=(8, 6))\n",
        "\n",
        "# Plot the top 5 themes preferred by consumers as per google search data\n",
        "ax.bar(top_5_themes_google.index, top_5_themes_google.values)\n",
        "ax.set_xlabel('Themes')\n",
        "ax.set_ylabel('Frequency')\n",
        "ax.set_title('Top 5 Themes Preferred by Consumers (Google Search)')\n",
        "ax.set_xticklabels(top_5_themes_google.index, rotation=10)\n",
        "\n",
        "# Show the plot\n",
        "plt.show()"
      ]
    },
    {
      "cell_type": "markdown",
      "metadata": {
        "id": "dxzxvcWA9E75"
      },
      "source": [
        "## Task 4"
      ]
    },
    {
      "cell_type": "markdown",
      "metadata": {
        "id": "YY-3wffUxBpA"
      },
      "source": [
        "My reasoning for selecting monthly granularity is as follows:\n",
        "\n",
        "Smoothing and Seasonality: Monthly granularity smoothes out short-term swings while capturing underlying patterns and seasonality in the data. Many corporate processes and consumer habits, such as monthly sales cycles, seasonal trends, and monthly budgeting or planning cycles, display monthly patterns.\n",
        "\n",
        "\n",
        "Sufficient data: Monthly granularity gives enough data to evaluate and comprehend trends and patterns within a particular month. It finds a compromise between capturing the intricacies of shorter time periods (such as daily or weekly) and avoiding the unnecessary noise or data volume that comes with finer granularities.\n",
        "\n",
        "Practicality and interpretability: Monthly data is reasonably simple to manipulate and interpret. It is well-aligned with typical company reporting and decision-making processes, making communication and analysis easier.Monthly data points are less detailed than daily or hourly data, allowing for more succinct and informative trend portrayal.\n",
        "\n",
        "Adequate Sample Size: Because monthly data has a relatively big sample size, it allows for more reliable statistical analysis, forecasting, and modeling. With more data points than quarterly or yearly data, statistical metrics such as mean, variance, or correlation may be estimated more accurately.\n",
        "\n",
        "Long-term Patterns: Because of the monthly granularity, long-term patterns and trends may be identified and analyzed. It aids in capturing long-term changes, growth rates, and alterations in consumer behavior or market dynamics.\n",
        "\n",
        "Overall, monthly granularity provides a reasonable mix between capturing relevant patterns and trends and retaining a practical degree of information and interpretability. However, the granularity selection depends on the unique environment, type of the data, and the study or commercial aims. When choosing the right granularity for time series analysis, it is critical to examine the features of the data as well as the specific analysis needs.\n",
        "\n",
        "\n",
        "\n",
        "\n",
        "\n"
      ]
    },
    {
      "cell_type": "code",
      "execution_count": null,
      "metadata": {
        "colab": {
          "base_uri": "https://localhost:8080/"
        },
        "id": "Os6-4LdbmpMR",
        "outputId": "ef2ddde9-e952-4657-b6b7-d9fe329c8d66"
      },
      "outputs": [
        {
          "name": "stdout",
          "output_type": "stream",
          "text": [
            "[81]\n"
          ]
        }
      ],
      "source": [
        "# Find the theme_id for GMO Free\n",
        "theme_GMO_free = theme[theme['Claim Name'] == 'gmo free'][\"Theme_ID\"].values\n",
        "print(theme_GMO_free)\n",
        "\n",
        "# Use the recommended time granularity, analyse the time series trend among the sales, social media,\n",
        "# and google search data for the GMO free theme and show if there is any correlation"
      ]
    },
    {
      "cell_type": "code",
      "execution_count": null,
      "metadata": {
        "id": "Ifm4vcQ58nQr"
      },
      "outputs": [],
      "source": [
        "def group_data_by_month(data, date_column, value_column):\n",
        "    data[date_column] = pd.to_datetime(data[date_column])\n",
        "    grouped_data = data.groupby(pd.Grouper(key=date_column, freq='M'))[value_column].sum()\n",
        "    return grouped_data\n",
        "\n",
        "# Filter sales data for the GMO free theme\n",
        "\n",
        "gmo_free_sales = df2[df2['Theme_ID'].isin(theme_GMO_free)]\n",
        "\n",
        "# Filter social media data for the GMO free theme\n",
        "gmo_free_social_media = sm[sm['Theme_ID'].isin(theme_GMO_free)]\n",
        "\n",
        "# Filter Google search data for the GMO free theme\n",
        "gmo_free_google_search = search[search['Theme_ID'].isin(theme_GMO_free)]"
      ]
    },
    {
      "cell_type": "code",
      "execution_count": null,
      "metadata": {
        "id": "NffCcZuNYVVI"
      },
      "outputs": [],
      "source": [
        "start_year = 2016\n",
        "# Set the time granularity to monthly\n",
        "time_granularity = 'M'"
      ]
    },
    {
      "cell_type": "code",
      "execution_count": null,
      "metadata": {
        "colab": {
          "base_uri": "https://localhost:8080/"
        },
        "id": "wlmx3N6IsFJB",
        "outputId": "a73bc68b-65f2-4210-f86b-6fc8cb3c3a0b"
      },
      "outputs": [
        {
          "name": "stderr",
          "output_type": "stream",
          "text": [
            "<ipython-input-61-6ad644b669a0>:2: SettingWithCopyWarning: \n",
            "A value is trying to be set on a copy of a slice from a DataFrame.\n",
            "Try using .loc[row_indexer,col_indexer] = value instead\n",
            "\n",
            "See the caveats in the documentation: https://pandas.pydata.org/pandas-docs/stable/user_guide/indexing.html#returning-a-view-versus-a-copy\n",
            "  gmo_free_sales['system_calendar_key_N'] = pd.to_datetime(gmo_free_sales['system_calendar_key_N'], format='%Y%m%d')\n",
            "<ipython-input-61-6ad644b669a0>:5: FutureWarning: The default value of numeric_only in DataFrameGroupBy.sum is deprecated. In a future version, numeric_only will default to False. Either specify numeric_only or select only columns which should be valid for the function.\n",
            "  grouped_sales = gmo_free_sales[gmo_free_sales.index.year >= start_year].groupby(pd.Grouper(freq=time_granularity)).sum()['sales_units_value']\n"
          ]
        }
      ],
      "source": [
        "#group sales data by month\n",
        "gmo_free_sales['system_calendar_key_N'] = pd.to_datetime(gmo_free_sales['system_calendar_key_N'], format='%Y%m%d')\n",
        "#make this date column the index in order to plot the graph\n",
        "gmo_free_sales.set_index('system_calendar_key_N', inplace=True)\n",
        "grouped_sales = gmo_free_sales[gmo_free_sales.index.year >= start_year].groupby(pd.Grouper(freq=time_granularity)).sum()['sales_units_value']"
      ]
    },
    {
      "cell_type": "code",
      "execution_count": null,
      "metadata": {
        "colab": {
          "base_uri": "https://localhost:8080/"
        },
        "id": "QZb_PGB1r4Qo",
        "outputId": "e739e2e6-6703-4eb9-9ce7-35e2d32f6fbe"
      },
      "outputs": [
        {
          "name": "stderr",
          "output_type": "stream",
          "text": [
            "<ipython-input-62-beb4025080c2>:2: SettingWithCopyWarning: \n",
            "A value is trying to be set on a copy of a slice from a DataFrame.\n",
            "Try using .loc[row_indexer,col_indexer] = value instead\n",
            "\n",
            "See the caveats in the documentation: https://pandas.pydata.org/pandas-docs/stable/user_guide/indexing.html#returning-a-view-versus-a-copy\n",
            "  gmo_free_social_media.loc[:, 'published_date'] = pd.to_datetime(gmo_free_social_media['published_date'])\n",
            "<ipython-input-62-beb4025080c2>:2: DeprecationWarning: In a future version, `df.iloc[:, i] = newvals` will attempt to set the values inplace instead of always setting a new array. To retain the old behavior, use either `df[df.columns[i]] = newvals` or, if columns are non-unique, `df.isetitem(i, newvals)`\n",
            "  gmo_free_social_media.loc[:, 'published_date'] = pd.to_datetime(gmo_free_social_media['published_date'])\n"
          ]
        }
      ],
      "source": [
        "# Group social media data by month\n",
        "gmo_free_social_media.loc[:, 'published_date'] = pd.to_datetime(gmo_free_social_media['published_date'])\n",
        "grouped_social_media = gmo_free_social_media[gmo_free_social_media['published_date'].dt.year >= start_year].groupby(pd.Grouper(key='published_date', freq=time_granularity)).sum()['total_post']"
      ]
    },
    {
      "cell_type": "code",
      "execution_count": null,
      "metadata": {
        "colab": {
          "base_uri": "https://localhost:8080/"
        },
        "id": "V2oRGoe7r6pG",
        "outputId": "e7263dd0-0e9b-4caa-ece3-98844020e200"
      },
      "outputs": [
        {
          "name": "stderr",
          "output_type": "stream",
          "text": [
            "<ipython-input-63-0f2837671583>:2: UserWarning: Parsing dates in DD/MM/YYYY format when dayfirst=False (the default) was specified. This may lead to inconsistently parsed dates! Specify a format to ensure consistent parsing.\n",
            "  gmo_free_google_search['date'] = pd.to_datetime(gmo_free_google_search['date'])\n",
            "<ipython-input-63-0f2837671583>:2: SettingWithCopyWarning: \n",
            "A value is trying to be set on a copy of a slice from a DataFrame.\n",
            "Try using .loc[row_indexer,col_indexer] = value instead\n",
            "\n",
            "See the caveats in the documentation: https://pandas.pydata.org/pandas-docs/stable/user_guide/indexing.html#returning-a-view-versus-a-copy\n",
            "  gmo_free_google_search['date'] = pd.to_datetime(gmo_free_google_search['date'])\n",
            "<ipython-input-63-0f2837671583>:3: FutureWarning: The default value of numeric_only in DataFrameGroupBy.sum is deprecated. In a future version, numeric_only will default to False. Either specify numeric_only or select only columns which should be valid for the function.\n",
            "  grouped_google_search = gmo_free_google_search[gmo_free_google_search['date'].dt.year >= start_year].groupby(pd.Grouper(key='date', freq=time_granularity)).sum()['searchVolume']\n"
          ]
        }
      ],
      "source": [
        "# Group Google search data by month\n",
        "gmo_free_google_search['date'] = pd.to_datetime(gmo_free_google_search['date'])\n",
        "grouped_google_search = gmo_free_google_search[gmo_free_google_search['date'].dt.year >= start_year].groupby(pd.Grouper(key='date', freq=time_granularity)).sum()['searchVolume']"
      ]
    },
    {
      "cell_type": "code",
      "execution_count": null,
      "metadata": {
        "colab": {
          "base_uri": "https://localhost:8080/",
          "height": 609
        },
        "id": "sq0ltaRwMlsJ",
        "outputId": "a0bb2757-d335-4e4d-ff45-8874e808ddaf"
      },
      "outputs": [
        {
          "data": {
            "image/png": "[encoded data removed]",
            "text/plain": [
              "<Figure size 1200x600 with 1 Axes>"
            ]
          },
          "metadata": {},
          "output_type": "display_data"
        }
      ],
      "source": [
        "plt.figure(figsize=(12, 6))\n",
        "plt.plot(grouped_sales.index.strftime('%Y-%m'), grouped_sales.values)\n",
        "plt.title('Trend of Sales for GMO Free Theme')\n",
        "plt.xlabel('Date')\n",
        "plt.ylabel('Sales')\n",
        "plt.grid(True)\n",
        "plt.xticks(rotation=70, ha='right')\n",
        "plt.show()"
      ]
    },
    {
      "cell_type": "markdown",
      "metadata": {
        "id": "fJtuYKai6LiH"
      },
      "source": [
        "In this graph we can see that the general trend is where the numbers is around 0.6 10^7 to 0.8 10^7 from 2016 january to 2019 july.From August 2019 onwards, the trend is a downward spike from there to 2019 october January."
      ]
    },
    {
      "cell_type": "code",
      "execution_count": null,
      "metadata": {
        "colab": {
          "base_uri": "https://localhost:8080/",
          "height": 609
        },
        "id": "eczqegW5NgbJ",
        "outputId": "bb1c608f-64ff-4c19-8e79-1892e531f3f7"
      },
      "outputs": [
        {
          "data": {
            "image/png": "[encoded data removed]",
            "text/plain": [
              "<Figure size 1200x600 with 1 Axes>"
            ]
          },
          "metadata": {},
          "output_type": "display_data"
        }
      ],
      "source": [
        "# Plot the trend of Google search data\n",
        "plt.figure(figsize=(12, 6))\n",
        "plt.plot(grouped_google_search.index.strftime('%Y-%m'), grouped_google_search.values)\n",
        "plt.title('Trend of Google Search Data for GMO Free Theme')\n",
        "plt.xlabel('Date')\n",
        "plt.ylabel('Search Volume')\n",
        "plt.grid(True)\n",
        "plt.xticks(rotation=70, ha='right')\n",
        "plt.show()"
      ]
    },
    {
      "cell_type": "markdown",
      "metadata": {
        "id": "-1PmcvTDB1cp"
      },
      "source": [
        "For this graph, we can infer that the general trend is around 30000 with a few exceptions of 35000 and above in late 2016 and 2018 and a few lows of around 20000 and as with the first graph there is a sharp downturn from late 2019."
      ]
    },
    {
      "cell_type": "code",
      "execution_count": null,
      "metadata": {
        "colab": {
          "base_uri": "https://localhost:8080/",
          "height": 609
        },
        "id": "qpNWN9ZRNpQw",
        "outputId": "014959fe-0fa4-4015-8524-1bd39f7a2e98"
      },
      "outputs": [
        {
          "data": {
            "image/png": "[encoded data removed]",
            "text/plain": [
              "<Figure size 1200x600 with 1 Axes>"
            ]
          },
          "metadata": {},
          "output_type": "display_data"
        }
      ],
      "source": [
        "# Plot the trend of social media data\n",
        "plt.figure(figsize=(12, 6))\n",
        "plt.plot(grouped_social_media.index.strftime('%Y-%m'), grouped_social_media.values)\n",
        "plt.title('Trend of Social Media Data for GMO Free Theme')\n",
        "plt.xlabel('Date')\n",
        "plt.ylabel('Social Media Count')\n",
        "plt.grid(True)\n",
        "plt.xticks(rotation=70,ha='right')\n",
        "plt.show()"
      ]
    },
    {
      "cell_type": "markdown",
      "metadata": {
        "id": "3N3UvapaDVM8"
      },
      "source": [
        "For the third graph, the main trend is quite low at around 1000 to 2000 and in between 2017-7 to 2018-01 there is a sharp incline in post count in late 2017 to early 2018"
      ]
    },
    {
      "cell_type": "markdown",
      "metadata": {
        "id": "M-yDGKi6B3Lr"
      },
      "source": [
        "One thing which is noticeable is the fact that there is a massive decline in trends towards the end of 2019 for the sales and search graphs causing the numbers to be low thus indicating an obvious correlation between the 2 graphs."
      ]
    },
    {
      "cell_type": "markdown",
      "metadata": {
        "id": "MW_aLyzF4nic"
      },
      "source": [
        "## Task 5"
      ]
    },
    {
      "cell_type": "code",
      "execution_count": null,
      "metadata": {
        "colab": {
          "base_uri": "https://localhost:8080/"
        },
        "id": "oEUkQi7Q5V49",
        "outputId": "8fb58635-e24a-4a64-f279-2208423015ff"
      },
      "outputs": [
        {
          "name": "stdout",
          "output_type": "stream",
          "text": [
            "Vendor\n",
            "A                11110417674\n",
            "B                 3841860718\n",
            "D                 2582299912\n",
            "E                  200362303\n",
            "F                  525090112\n",
            "G                  181286878\n",
            "H                  294479885\n",
            "Others            2421832452\n",
            "Private Label     2197710799\n",
            "Name: sales_units_value, dtype: int64\n"
          ]
        }
      ],
      "source": [
        "# Task 5C: Show the total sales unit of various vendors\n",
        "dd = pd.merge(sales,manufactur,on='PRODUCT_ID',how='inner')\n",
        "total_sales_unit_vendors = dd.groupby('Vendor')['sales_units_value'].sum()\n",
        "print(total_sales_unit_vendors)"
      ]
    },
    {
      "cell_type": "code",
      "execution_count": null,
      "metadata": {
        "colab": {
          "base_uri": "https://localhost:8080/"
        },
        "id": "rFcM7NEbAsuM",
        "outputId": "6a7435ee-0b7e-4f59-ff2d-24969ec527bb"
      },
      "outputs": [
        {
          "name": "stdout",
          "output_type": "stream",
          "text": [
            "Vendor\n",
            "A    11110417674\n",
            "B     3841860718\n",
            "D     2582299912\n",
            "Name: sales_units_value, dtype: int64\n"
          ]
        }
      ],
      "source": [
        "# Task 5D: Who are the top 3 manufacturers in overall sales unit?\n",
        "top_3_manufacturers_sales_unit = dd.groupby('Vendor')['sales_units_value'].sum().nlargest(3)\n",
        "print(top_3_manufacturers_sales_unit)"
      ]
    },
    {
      "cell_type": "code",
      "execution_count": null,
      "metadata": {
        "colab": {
          "base_uri": "https://localhost:8080/",
          "height": 648
        },
        "id": "2X2Ha9E9A5uu",
        "outputId": "ee74e254-2097-48ee-b419-a34df36a17e4"
      },
      "outputs": [
        {
          "data": {
            "image/png": "[encoded data removed]",
            "text/plain": [
              "<Figure size 1000x600 with 1 Axes>"
            ]
          },
          "metadata": {},
          "output_type": "display_data"
        }
      ],
      "source": [
        "# Task 5C: Plot the percentage distribution of market shares in terms of sales unit value among all vendors\n",
        "market_share_sales_unit = total_sales_unit_vendors / total_sales_unit_vendors.sum() * 100\n",
        "\n",
        "# Set explode values for all sections to prevent smaller percentages values from overlapping with each other\n",
        "explode = [0, 0, 0, 0.8, 0.6, 0.5, 0.4, 0, 0]\n",
        "\n",
        "# Increase the overall size of the pie chart\n",
        "plt.figure(figsize=(10, 6))\n",
        "\n",
        "# Create the pie chart\n",
        "#_, _, autotexts = plt.pie(...) is used to unpack the third returned value from the plt.pie() function call.\n",
        "plt.pie(\n",
        "    market_share_sales_unit,\n",
        "    labels=market_share_sales_unit.index,\n",
        "    autopct='%1.1f%%',\n",
        "    explode=explode\n",
        ")\n",
        "\n",
        "\n",
        "# Set the legend position\n",
        "plt.legend(bbox_to_anchor=(1, 1), loc='upper left')\n",
        "\n",
        "# Add a title to the pie chart\n",
        "plt.title(\"Market Share Distribution\")\n",
        "\n",
        "# Display the pie chart\n",
        "plt.show()\n"
      ]
    },
    {
      "cell_type": "markdown",
      "metadata": {
        "id": "Wb-jFXySrmi6"
      },
      "source": [
        "## Task 6"
      ]
    },
    {
      "cell_type": "code",
      "execution_count": null,
      "metadata": {
        "colab": {
          "base_uri": "https://localhost:8080/"
        },
        "id": "YA5ee9-i3jUQ",
        "outputId": "35d3ac86-ad24-4b48-e46a-ad52dee23aa0"
      },
      "outputs": [
        {
          "name": "stdout",
          "output_type": "stream",
          "text": [
            "Potential competitors for GMO free against manufacturer A:\n",
            "Others\n",
            "F\n",
            "H\n",
            "B\n",
            "Private Label\n"
          ]
        }
      ],
      "source": [
        "# Function to filter competitors based on theme and manufacturer\n",
        "df5 = pd.merge(manufactur,sales,on='PRODUCT_ID')\n",
        "df6 = pd.merge(df5,themeprod,on='PRODUCT_ID')\n",
        "def find_competitors(target_theme, manufacturer):\n",
        "    # Convert the \"Claim Name\" column to lowercase for case-insensitive comparison\n",
        "    lower_theme_df = theme.copy()\n",
        "    lower_theme_df[\"Claim Name\"] = lower_theme_df[\"Claim Name\"].apply(lambda x: x.lower())\n",
        "    # Get the relevant Theme_ID for the given theme\n",
        "    theme_id = lower_theme_df.loc[lower_theme_df[\"Claim Name\"] == target_theme.lower(), \"Theme_ID\"].values[0]\n",
        "    # Filter themeprod_df to get PRODUCT_IDs for the given theme\n",
        "    theme_products = themeprod.loc[themeprod[\"Theme_ID\"] == theme_id, \"PRODUCT_ID\"]\n",
        "    # Filter manufactur_df to get potential competitors for the given theme and manufacturer\n",
        "    competitors = df6.loc[(df6[\"PRODUCT_ID\"].isin(theme_products)) & (df6[\"Vendor\"] != 'A') & (df6[\"sales_units_value\"] > 0), \"Vendor\"].unique()\n",
        "    return competitors\n",
        "\n",
        "# Find potential competitors for the \"GMO free\" theme against manufacturer \"A\"\n",
        "gmo_free_competitors = find_competitors(\"gmo free\", \"A\")\n",
        "# Print the potential competitors for the \"GMO free\" theme against manufacturer \"A\"\n",
        "print(\"Potential competitors for GMO free against manufacturer A:\")\n",
        "for competitor in gmo_free_competitors:\n",
        "    print(competitor)\n"
      ]
    },
    {
      "cell_type": "markdown",
      "metadata": {
        "id": "A_L0zHwmm53K"
      },
      "source": [
        "### Part 2"
      ]
    },
    {
      "cell_type": "markdown",
      "metadata": {
        "id": "fODdNnXtN8Wb"
      },
      "source": [
        "For finding themes with high business oppotunities we need to merge sales and themeproductid dataset and filter according to the theme_id and sales_units_value columns"
      ]
    },
    {
      "cell_type": "code",
      "execution_count": null,
      "metadata": {
        "colab": {
          "base_uri": "https://localhost:8080/"
        },
        "id": "Ui2HPSqA2weU",
        "outputId": "211d9b8f-381e-4354-ae7c-e4e4a39cd539"
      },
      "outputs": [
        {
          "name": "stdout",
          "output_type": "stream",
          "text": [
            "Top 3 Themes with High Business Opportunity:\n",
            "Based on revenue generated\n",
            "Claim Name\n",
            "low carb                      1.862566e+10\n",
            "no additives/preservatives    1.438821e+10\n",
            "stroganoff                    1.275780e+10\n",
            "Name: sales_dollars_value, dtype: float64\n",
            "Theme_ID\n",
            "8     1.862566e+10\n",
            "40    1.438821e+10\n",
            "32    1.275780e+10\n",
            "Name: sales_dollars_value, dtype: float64\n"
          ]
        }
      ],
      "source": [
        "# Mkae the system_calendar_key_N column in the df2 dataset the index to produce a decent graph\n",
        "df2['system_calendar_key_N'] = pd.to_datetime(df2['system_calendar_key_N'], format='%Y%m%d')\n",
        "df2.set_index('system_calendar_key_N', inplace=True)\n",
        "\n",
        "# Group the merged data by theme and calculate total sales units\n",
        "lol = df2[df2['Theme_ID'] != 0]\n",
        "theme_sale = lol.groupby('Theme_ID')['sales_dollars_value'].sum()\n",
        "theme_sales = lol.groupby('Claim Name')['sales_dollars_value'].sum()\n",
        "# Sort the themes in descending order of sales units\n",
        "sorted_themes = theme_sales.sort_values(ascending=False)\n",
        "sorted_theme = theme_sale.sort_values(ascending=False)\n",
        "# Select the top three themes\n",
        "top_3_themes = sorted_themes.nlargest(3)\n",
        "top_3_theme = sorted_theme.nlargest(3)\n",
        "# Print the top three themes and their corresponding sales units\n",
        "print('Top 3 Themes with High Business Opportunity:')\n",
        "print('Based on revenue generated')\n",
        "print(top_3_themes)\n",
        "print(top_3_theme)\n"
      ]
    },
    {
      "cell_type": "markdown",
      "metadata": {
        "id": "hm4ROKWWNjmg"
      },
      "source": [
        "Based on the themes shown we shall find their trends to see how good they are for business growth for Manufacturer A"
      ]
    },
    {
      "cell_type": "code",
      "execution_count": null,
      "metadata": {
        "colab": {
          "base_uri": "https://localhost:8080/",
          "height": 580
        },
        "id": "zZOXeMgFNfW5",
        "outputId": "581c0640-5cfe-42d7-aae6-4db8c2229eb0"
      },
      "outputs": [
        {
          "data": {
            "image/png": "[encoded data removed]",
            "text/plain": [
              "<Figure size 1000x600 with 1 Axes>"
            ]
          },
          "metadata": {},
          "output_type": "display_data"
        }
      ],
      "source": [
        "# Filter the merged data for the top three themes\n",
        "\n",
        "filtered_data = df2[df2['Theme_ID'].isin(top_3_theme.index)]\n",
        "\n",
        "# Group the filtered data by theme and date, calculate monthly sales units\n",
        "grouped_data = filtered_data.groupby(['Theme_ID', 'system_calendar_key_N'])['sales_dollars_value'].sum().reset_index()\n",
        "\n",
        "# Pivot the data to have themes as columns and dates as rows\n",
        "pivot_data = grouped_data.pivot_table(index='system_calendar_key_N', columns='Theme_ID', values='sales_dollars_value', aggfunc='sum')\n",
        "\n",
        "# Plot the trendline for each theme\n",
        "pivot_data.plot(figsize=(10, 6), linewidth=2)\n",
        "\n",
        "# Set plot title and axis labels\n",
        "plt.title('Sales Dollars Trend for Top 3 Themes')\n",
        "plt.xlabel('Date')\n",
        "plt.ylabel('Sales Units')\n",
        "\n",
        "# Display the legend\n",
        "plt.legend()\n",
        "\n",
        "# Show the plot\n",
        "plt.show()"
      ]
    },
    {
      "cell_type": "markdown",
      "metadata": {
        "id": "7f_LW6Q4WSks"
      },
      "source": [
        "As seen by the graph, the sales amount for all 3 themes is on a steady trend of increasing which is good for business growth as Manufacturer A can earn alot of money by investing into the aforementioned themes for sales. However getting a share of this huge booming market may prove to be quite competitve as there may be more manufacturers in this space"
      ]
    },
    {
      "cell_type": "code",
      "execution_count": null,
      "metadata": {
        "colab": {
          "base_uri": "https://localhost:8080/"
        },
        "id": "xxYggplbx5ah",
        "outputId": "4dac4aad-3f6a-4a18-fd40-933887d9bde7"
      },
      "outputs": [
        {
          "name": "stdout",
          "output_type": "stream",
          "text": [
            "Top 3 Themes with High Business Opportunity:\n",
            "Based on units sold\n",
            "Claim Name\n",
            "low carb                      2627421936\n",
            "no additives/preservatives    1559993572\n",
            "stroganoff                    1391218733\n",
            "Name: sales_units_value, dtype: int64\n",
            "Theme_ID\n",
            "8     2627421936\n",
            "40    1559993572\n",
            "32    1391218733\n",
            "Name: sales_units_value, dtype: int64\n"
          ]
        }
      ],
      "source": [
        "# Make the system_calendar_key_N column in the df2 dataset the index to produce a decent graph\n",
        "\n",
        "# Group the merged data by theme and calculate total sales units\n",
        "lol = df2[df2['Theme_ID'] != 0]\n",
        "theme_sale = lol.groupby('Theme_ID')['sales_units_value'].sum()\n",
        "theme_sales = lol.groupby('Claim Name')['sales_units_value'].sum()\n",
        "# Sort the themes in descending order of sales units\n",
        "sorted_themes = theme_sales.sort_values(ascending=False)\n",
        "sorted_theme = theme_sale.sort_values(ascending=False)\n",
        "# Select the top three themes\n",
        "top_3_themes = sorted_themes.nlargest(3)\n",
        "top_3_theme = sorted_theme.nlargest(3)\n",
        "# Print the top three themes and their corresponding sales units\n",
        "print('Top 3 Themes with High Business Opportunity:')\n",
        "print('Based on units sold')\n",
        "print(top_3_themes)\n",
        "print(top_3_theme)\n"
      ]
    },
    {
      "cell_type": "code",
      "execution_count": null,
      "metadata": {
        "colab": {
          "base_uri": "https://localhost:8080/"
        },
        "id": "R_xXmaHNsiCT",
        "outputId": "7d63300b-1600-4fc4-eaa5-7fe21234f5ad"
      },
      "outputs": [
        {
          "name": "stdout",
          "output_type": "stream",
          "text": [
            "Top 3 Themes with High Business Opportunity:\n",
            "Based on Social Media posts\n",
            "Claim Name\n",
            "low carb                      2627421936\n",
            "no additives/preservatives    1559993572\n",
            "stroganoff                    1391218733\n",
            "Name: sales_units_value, dtype: int64\n"
          ]
        }
      ],
      "source": [
        "# Group the merged data by theme and calculate total sales units\n",
        "lol = df3[df3['Theme_ID'] != 0]\n",
        "#theme_sale = lol.groupby('Theme_ID')['total_post'].sum()\n",
        "theme_sales = lol.groupby('Claim Name')['total_post'].sum()\n",
        "# Sort the themes in descending order of sales units\n",
        "#sorted_themes = theme_sales.sort_values(ascending=False)\n",
        "sorted_theme = theme_sale.sort_values(ascending=False)\n",
        "# Select the top three themes\n",
        "top_3_themes = sorted_themes.nlargest(3)\n",
        "top_3_theme = sorted_theme.nlargest(3)\n",
        "# Print the top three themes and their corresponding sales units\n",
        "print('Top 3 Themes with High Business Opportunity:')\n",
        "print('Based on Social Media posts')\n",
        "print(top_3_themes)\n",
        "#print(top_3_theme)"
      ]
    },
    {
      "cell_type": "markdown",
      "metadata": {
        "id": "5rgMV0zm75pH"
      },
      "source": [
        "We use social media posts as a factor of consideration as this may attract more consumers especially the social media savvy people to buy the products.There is also a obvious correlation with social media posts and dollars generated as the exact same themes appear."
      ]
    },
    {
      "cell_type": "code",
      "execution_count": null,
      "metadata": {
        "colab": {
          "base_uri": "https://localhost:8080/"
        },
        "id": "Og2LyEnyg-Mw",
        "outputId": "70fe7367-629c-4845-d3e3-461a755c2b58"
      },
      "outputs": [
        {
          "name": "stdout",
          "output_type": "stream",
          "text": [
            "Top 3 Themes with High Business Opportunity:\n",
            "Based on Market Share:\n",
            "Theme_ID\n",
            "8     0.093683\n",
            "40    0.055623\n",
            "32    0.049605\n",
            "Name: sales_units_value, dtype: float64\n",
            "Based on Growth Potential:\n",
            "Claim Name\n",
            "vegetarian                    122.202870\n",
            "no additives/preservatives     21.277672\n",
            "soy foods                      20.926419\n",
            "Name: sales_dollars_value, dtype: float64\n"
          ]
        }
      ],
      "source": [
        "# Task 2: Calculate market share for each theme\n",
        "total_sales = df2['sales_units_value'].sum()\n",
        "theme_market_share = theme_sale / total_sales\n",
        "\n",
        "# Task 3: Identify themes with high growth potential\n",
        "theme_growth = df2.groupby('Claim Name')['sales_dollars_value'].mean().pct_change()\n",
        "\n",
        "# Identify the top 3 themes based on sales volume, market share, and growth potential\n",
        "top_3_themes_market_share = theme_market_share.nlargest(3)\n",
        "top_3_themes_growth = theme_growth.nlargest(3)\n",
        "\n",
        "# Print the recommended themes\n",
        "print(\"Top 3 Themes with High Business Opportunity:\")\n",
        "print(\"Based on Market Share:\")\n",
        "print(top_3_themes_market_share)\n",
        "print(\"Based on Growth Potential:\")\n",
        "print(top_3_themes_growth)"
      ]
    },
    {
      "cell_type": "markdown",
      "metadata": {
        "id": "suZCREAe9UIh"
      },
      "source": [
        "We also look at market share to see how distributed the 3 themes are. Growth Potential is based on the .pct_change() function which is a pandas method that calculates the percentage change between consecutive elements in a series or column. When applied to a series of values, it computes the percentage change from the previous element to the current element. This will help us see which themes have the biggest percentage changes based on dollar value."
      ]
    },
    {
      "cell_type": "markdown",
      "metadata": {
        "id": "Y8NtJ6rCVobd"
      },
      "source": [
        "All in all , I feel that the 3 best themes for business growth is low carb,no additives/preservatives and stronganoff due to their overwhelming presence in the business,consumer and media markets"
      ]
    }
  ],
  "metadata": {
    "colab": {
      "provenance": []
    },
    "kernelspec": {
      "display_name": "Python 3",
      "name": "python3"
    },
    "language_info": {
      "name": "python"
    }
  },
  "nbformat": 4,
  "nbformat_minor": 0
}
